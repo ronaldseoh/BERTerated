{
 "cells": [
  {
   "cell_type": "markdown",
   "metadata": {
    "id": "d6qruq9ZFQsN"
   },
   "source": [
    "# Further Pre-training MobileBERT MLM with Centralized Training (Stackoverflow)"
   ]
  },
  {
   "cell_type": "code",
   "execution_count": null,
   "metadata": {
    "id": "-AgOn_qCFQsk"
   },
   "outputs": [],
   "source": [
    "# Copyright 2020, The TensorFlow Federated Authors.\n",
    "# Copyright 2020, Ronald Seoh\n",
    "#\n",
    "# Licensed under the Apache License, Version 2.0 (the \"License\");\n",
    "# you may not use this file except in compliance with the License.\n",
    "# You may obtain a copy of the License at\n",
    "#\n",
    "#      http://www.apache.org/licenses/LICENSE-2.0\n",
    "#\n",
    "# Unless required by applicable law or agreed to in writing, software\n",
    "# distributed under the License is distributed on an \"AS IS\" BASIS,\n",
    "# WITHOUT WARRANTIES OR CONDITIONS OF ANY KIND, either express or implied.\n",
    "# See the License for the specific language governing permissions and\n",
    "# limitations under the License."
   ]
  },
  {
   "cell_type": "markdown",
   "metadata": {
    "id": "7zUGmvEbFQts"
   },
   "source": [
    "## Google Colab settings"
   ]
  },
  {
   "cell_type": "code",
   "execution_count": null,
   "metadata": {
    "id": "_1nBG9qaFQt9"
   },
   "outputs": [],
   "source": [
    "# Use Google Colab\n",
    "use_colab = True\n",
    "\n",
    "# Is this notebook running on Colab?\n",
    "# If so, then google.colab package (github.com/googlecolab/colabtools)\n",
    "# should be available in this environment\n",
    "\n",
    "# Previous version used importlib, but we could do the same thing with\n",
    "# just attempting to import google.colab\n",
    "try:\n",
    "    from google.colab import drive\n",
    "    colab_available = True\n",
    "except:\n",
    "    colab_available = False\n",
    "\n",
    "if use_colab and colab_available:\n",
    "    # Mount Google Drive root directory\n",
    "    drive.mount('/content/drive')\n",
    "\n",
    "    # cd to the appropriate working directory under my Google Drive\n",
    "    %cd '/content/drive/My Drive/Colab Notebooks/BERTerated'\n",
    "    \n",
    "    # List the directory contents\n",
    "    !ls"
   ]
  },
  {
   "cell_type": "markdown",
   "metadata": {},
   "source": [
    "## CUDA Multi GPU"
   ]
  },
  {
   "cell_type": "code",
   "execution_count": null,
   "metadata": {},
   "outputs": [],
   "source": [
    "import os\n",
    "\n",
    "os.environ[\"CUDA_DEVICE_ORDER\"]=\"PCI_BUS_ID\"\n",
    "\n",
    "os.environ[\"CUDA_VISIBLE_DEVICES\"]=\"1\""
   ]
  },
  {
   "cell_type": "code",
   "execution_count": null,
   "metadata": {
    "id": "DJnS1LscMXRS"
   },
   "outputs": [],
   "source": [
    "# IPython reloading magic\n",
    "%load_ext autoreload\n",
    "%autoreload 2"
   ]
  },
  {
   "cell_type": "code",
   "execution_count": null,
   "metadata": {
    "colab": {
     "base_uri": "https://localhost:8080/"
    },
    "executionInfo": {
     "elapsed": 21641,
     "status": "ok",
     "timestamp": 1605972208442,
     "user": {
      "displayName": "Ronald Seoh",
      "photoUrl": "",
      "userId": "10284188050297676522"
     },
     "user_tz": 300
    },
    "id": "seTmBYc5EJ7q",
    "outputId": "23227396-6a14-43ba-9e13-68522b2090c3"
   },
   "outputs": [],
   "source": [
    "# Install required packages\n",
    "#!pip install -r requirements.txt"
   ]
  },
  {
   "cell_type": "markdown",
   "metadata": {
    "id": "F16eB2w-FQuw"
   },
   "source": [
    "## Import packages"
   ]
  },
  {
   "cell_type": "code",
   "execution_count": null,
   "metadata": {
    "colab": {
     "base_uri": "https://localhost:8080/"
    },
    "executionInfo": {
     "elapsed": 8763,
     "status": "ok",
     "timestamp": 1605972246385,
     "user": {
      "displayName": "Ronald Seoh",
      "photoUrl": "",
      "userId": "10284188050297676522"
     },
     "user_tz": 300
    },
    "id": "k_SnruV2FQu0",
    "outputId": "35194c2b-6489-4a8d-ca00-eb29dd030e79"
   },
   "outputs": [],
   "source": [
    "import os\n",
    "import sys\n",
    "import random\n",
    "import datetime\n",
    "import json\n",
    "import pathlib\n",
    "import itertools\n",
    "import math\n",
    "\n",
    "import numpy as np\n",
    "import tensorflow as tf\n",
    "import tensorflow_federated as tff\n",
    "import tensorflow_text as tf_text\n",
    "import transformers\n",
    "import tqdm\n",
    "\n",
    "import nest_asyncio\n",
    "nest_asyncio.apply()\n",
    "\n",
    "import fedavg\n",
    "import fedavg_client\n",
    "import datasets\n",
    "import utils\n",
    "\n",
    "# Random seed settings\n",
    "random_seed = 692\n",
    "random.seed(random_seed) # Python\n",
    "np.random.seed(random_seed) # NumPy\n",
    "tf.random.set_seed(random_seed) # TensorFlow\n",
    "\n",
    "# Tensorflow GPU\n",
    "print(\"Num GPUs Available: \", len(tf.config.experimental.list_physical_devices('GPU')))\n",
    "\n",
    "# Test if TFF is working\n",
    "tff.federated_computation(lambda: 'Hello, World!')()"
   ]
  },
  {
   "cell_type": "code",
   "execution_count": null,
   "metadata": {
    "colab": {
     "base_uri": "https://localhost:8080/"
    },
    "executionInfo": {
     "elapsed": 1441,
     "status": "ok",
     "timestamp": 1605972029405,
     "user": {
      "displayName": "Ronald Seoh",
      "photoUrl": "",
      "userId": "10284188050297676522"
     },
     "user_tz": 300
    },
    "id": "FHYxELiQFQvI",
    "outputId": "f56168dc-67f5-437b-a221-b9001dd7ae1b"
   },
   "outputs": [],
   "source": [
    "# Print version information\n",
    "print(\"Python version: \" + sys.version)\n",
    "print(\"NumPy version: \" + np.__version__)\n",
    "print(\"TensorFlow version: \" + tf.__version__)\n",
    "print(\"TensorFlow Federated version: \" + tff.__version__)\n",
    "print(\"Transformers version: \" + transformers.__version__)"
   ]
  },
  {
   "cell_type": "code",
   "execution_count": null,
   "metadata": {
    "colab": {
     "base_uri": "https://localhost:8080/"
    },
    "executionInfo": {
     "elapsed": 58457,
     "status": "ok",
     "timestamp": 1605971405497,
     "user": {
      "displayName": "Ronald Seoh",
      "photoUrl": "",
      "userId": "10284188050297676522"
     },
     "user_tz": 300
    },
    "id": "sLvpOpvhEA0E",
    "outputId": "1e37cab1-d945-4356-cfca-d4c5e7b4f9b2"
   },
   "outputs": [],
   "source": [
    "!nvidia-smi"
   ]
  },
  {
   "cell_type": "markdown",
   "metadata": {
    "id": "NYXMEboAFQvd"
   },
   "source": [
    "## Experiment Settings"
   ]
  },
  {
   "cell_type": "code",
   "execution_count": null,
   "metadata": {
    "id": "M071lqOQFQvi"
   },
   "outputs": [],
   "source": [
    "EXPERIMENT_CONFIG = {}\n",
    "\n",
    "EXPERIMENT_CONFIG['HUGGINGFACE_MODEL_NAME'] = 'google/mobilebert-uncased'\n",
    "EXPERIMENT_CONFIG['HUGGINGFACE_CACHE_DIR'] = os.path.join('.', 'transformers_cache')\n",
    "\n",
    "EXPERIMENT_CONFIG['CENTRALIZED_EPOCHS'] = 9\n",
    "EXPERIMENT_CONFIG['VALIDATION_FREQUENCY'] = 3 \n",
    "\n",
    "EXPERIMENT_CONFIG['BATCH_SIZE'] = 32\n",
    "EXPERIMENT_CONFIG['TEST_BATCH_SIZE'] = 64\n",
    "\n",
    "EXPERIMENT_CONFIG['BERT_MAX_SEQ_LENGTH'] = 128\n",
    "\n",
    "EXPERIMENT_CONFIG['CENTRALIZED_LEARNING_RATE'] = [5e-5, 3e-5, 2e-5]\n",
    "\n",
    "EXPERIMENT_CONFIG['TRAIN_NUM_CLIENT_LIMIT'] = 2000\n",
    "EXPERIMENT_CONFIG['TEST_NUM_CLIENT_LIMIT'] = 1000\n",
    "\n",
    "EXPERIMENT_CONFIG['RESULTS_DIRECTORY'] = os.path.join(\n",
    "    '.', 'results',\n",
    "    'mobilebert_mlm_stackoverflow_centralized',\n",
    "    datetime.datetime.now().strftime(\"%Y%m%d-%H%M%S\")\n",
    ")\n",
    "\n",
    "EXPERIMENT_CONFIG['RESULTS_LOG'] = os.path.join(EXPERIMENT_CONFIG['RESULTS_DIRECTORY'], \"logs\")\n",
    "EXPERIMENT_CONFIG['RESULTS_MODEL'] = os.path.join(EXPERIMENT_CONFIG['RESULTS_DIRECTORY'], \"model\")\n",
    "EXPERIMENT_CONFIG['RESULTS_CONFIG'] = os.path.join(EXPERIMENT_CONFIG['RESULTS_DIRECTORY'], \"config\")"
   ]
  },
  {
   "cell_type": "code",
   "execution_count": null,
   "metadata": {
    "id": "JxJWtUgFMXRi"
   },
   "outputs": [],
   "source": [
    "# Dump all the configuration into a json file\n",
    "pathlib.Path(EXPERIMENT_CONFIG['RESULTS_CONFIG']).mkdir(parents=True, exist_ok=True)\n",
    "\n",
    "with open(os.path.join(EXPERIMENT_CONFIG['RESULTS_CONFIG'], \"config.json\"), 'w') as config_file:\n",
    "    json.dump(EXPERIMENT_CONFIG, config_file, indent=6)"
   ]
  },
  {
   "cell_type": "markdown",
   "metadata": {
    "id": "u-tHcHX0FQvz"
   },
   "source": [
    "## Dataset"
   ]
  },
  {
   "cell_type": "markdown",
   "metadata": {
    "id": "LuI6ktSIbCjk"
   },
   "source": [
    "### Dataset loader"
   ]
  },
  {
   "cell_type": "code",
   "execution_count": null,
   "metadata": {
    "id": "cVkK1BV9FQv3"
   },
   "outputs": [],
   "source": [
    "train_client_data = tff.python.simulation.hdf5_client_data.HDF5ClientData(\n",
    "    os.path.join('.', 'tff_cache', 'datasets', 'stackoverflow_train.h5'))\n",
    "held_out_client_data = tff.python.simulation.hdf5_client_data.HDF5ClientData(\n",
    "    os.path.join('.', 'tff_cache', 'datasets', 'stackoverflow_held_out.h5'))\n",
    "test_client_data = tff.python.simulation.hdf5_client_data.HDF5ClientData(\n",
    "    os.path.join('.', 'tff_cache', 'datasets', 'stackoverflow_test.h5'))"
   ]
  },
  {
   "cell_type": "markdown",
   "metadata": {
    "id": "WNYlFQJ3Wt1O"
   },
   "source": [
    "### Tokenizer"
   ]
  },
  {
   "cell_type": "code",
   "execution_count": null,
   "metadata": {
    "id": "ZXmJYQbeFQwG"
   },
   "outputs": [],
   "source": [
    "bert_tokenizer = transformers.AutoTokenizer.from_pretrained(\n",
    "    EXPERIMENT_CONFIG['HUGGINGFACE_MODEL_NAME'], cache_dir=EXPERIMENT_CONFIG['HUGGINGFACE_CACHE_DIR'])"
   ]
  },
  {
   "cell_type": "code",
   "execution_count": null,
   "metadata": {
    "id": "8c7S9s9qRlsi"
   },
   "outputs": [],
   "source": [
    "# Imitate transformers tokenizer with TF.Text Tokenizer\n",
    "tokenizer_tf_text, vocab_lookup_table, special_ids_mask_table = \\\n",
    "datasets.preprocessing_for_bert.convert_huggingface_tokenizer(bert_tokenizer)"
   ]
  },
  {
   "cell_type": "markdown",
   "metadata": {
    "id": "_sfMNvpmFQwW"
   },
   "source": [
    "### Preprocessing"
   ]
  },
  {
   "cell_type": "code",
   "execution_count": null,
   "metadata": {
    "id": "oIOw1zG1RfnU"
   },
   "outputs": [],
   "source": [
    "def check_empty_snippet(x):\n",
    "    return tf.strings.length(x['tokens']) > 0\n",
    "\n",
    "def tokenizer_and_mask_wrapped(x):\n",
    "\n",
    "    masked, labels = datasets.preprocessing_for_bert.tokenize_and_mask(tf.reshape(x['tokens'], shape=[1]),\n",
    "                                                                       max_seq_length=EXPERIMENT_CONFIG['BERT_MAX_SEQ_LENGTH'],\n",
    "                                                                       bert_tokenizer_tf_text=tokenizer_tf_text,\n",
    "                                                                       vocab_lookup_table=vocab_lookup_table,\n",
    "                                                                       special_ids_mask_table=special_ids_mask_table,\n",
    "                                                                       cls_token_id=bert_tokenizer.cls_token_id,\n",
    "                                                                       sep_token_id=bert_tokenizer.sep_token_id,\n",
    "                                                                       pad_token_id=bert_tokenizer.pad_token_id,\n",
    "                                                                       mask_token_id=bert_tokenizer.mask_token_id)\n",
    "\n",
    "    return (masked, labels)\n",
    "\n",
    "def preprocess_for_train(train_dataset):\n",
    "    return (\n",
    "        train_dataset\n",
    "        # Tokenize each samples using MobileBERT tokenizer\n",
    "        #.map(tokenizer_and_mask_wrapped, num_parallel_calls=tf.data.experimental.AUTOTUNE, deterministic=False)\n",
    "        .map(tokenizer_and_mask_wrapped, num_parallel_calls=20, deterministic=False)\n",
    "        # Shuffle\n",
    "        .shuffle(100000)\n",
    "        # Form minibatches\n",
    "        # Use drop_remainder=True to force the batch size to be exactly BATCH_SIZE\n",
    "        # and make the shape **exactly** (BATCH_SIZE, SEQ_LENGTH)\n",
    "        .batch(EXPERIMENT_CONFIG['BATCH_SIZE'])\n",
    "        # NOTE: THIS SHOULD BE COMMENTED OUT FOR CENTRALIZED TRAINING\n",
    "        #.repeat(count=EXPERIMENT_CONFIG['CENTRALIZED_EPOCHS'])\n",
    "    )\n",
    "    \n",
    "def preprocess_for_test(test_dataset):\n",
    "    return (\n",
    "        test_dataset\n",
    "        # Tokenize each samples using MobileBERT tokenizer\n",
    "        #.map(tokenizer_and_mask_wrapped, num_parallel_calls=tf.data.experimental.AUTOTUNE, deterministic=False)\n",
    "        .map(tokenizer_and_mask_wrapped, num_parallel_calls=20, deterministic=False)\n",
    "        # Shuffle\n",
    "        .shuffle(100000)\n",
    "        # Form minibatches\n",
    "        # Use drop_remainder=True to force the batch size to be exactly TEST_BATCH_SIZE\n",
    "        # and make the shape **exactly** (TEST_BATCH_SIZE, SEQ_LENGTH)\n",
    "        .batch(EXPERIMENT_CONFIG['TEST_BATCH_SIZE'])\n",
    "    )"
   ]
  },
  {
   "cell_type": "markdown",
   "metadata": {
    "id": "4l3mF1AJMXRk"
   },
   "source": [
    "### Training set"
   ]
  },
  {
   "cell_type": "code",
   "execution_count": null,
   "metadata": {
    "id": "Tzvk0Xa_MXRk"
   },
   "outputs": [],
   "source": [
    "# Since the dataset is pretty large, we randomly select TRAIN_NUM_CLIENT_LIMIT number of clients.\n",
    "all_train_client_ids = train_client_data.client_ids\n",
    "\n",
    "random.shuffle(all_train_client_ids)\n",
    "\n",
    "if EXPERIMENT_CONFIG['TRAIN_NUM_CLIENT_LIMIT'] > 0:\n",
    "    selected_train_client_ids = all_train_client_ids[0:EXPERIMENT_CONFIG['TRAIN_NUM_CLIENT_LIMIT']]\n",
    "else:\n",
    "    selected_train_client_ids = all_train_client_ids"
   ]
  },
  {
   "cell_type": "code",
   "execution_count": null,
   "metadata": {
    "id": "meLGsVyoiW7u"
   },
   "outputs": [],
   "source": [
    "train_client_data_all_merged = None\n",
    "train_client_data_all_merged_length = 0\n",
    "\n",
    "for i in tqdm.notebook.tqdm(range(len(selected_train_client_ids))):\n",
    "    # Get the current client dataset while filtering out empty data points\n",
    "    current_client_data = train_client_data.create_tf_dataset_for_client(selected_train_client_ids[i]).filter(check_empty_snippet)\n",
    "\n",
    "    # How many data points in this client's dataset?\n",
    "    # Apparently iterating through each of them is the only way to get the lengths of tf.data.Dataset\n",
    "    # This is not very cool tbh.\n",
    "    for _ in tqdm.notebook.tqdm(current_client_data, leave=False):\n",
    "        train_client_data_all_merged_length = train_client_data_all_merged_length + 1 \n",
    "\n",
    "    if train_client_data_all_merged is None:\n",
    "        train_client_data_all_merged = current_client_data\n",
    "    else:\n",
    "        train_client_data_all_merged = train_client_data_all_merged.concatenate(current_client_data)\n",
    "        \n",
    "print(len(selected_train_client_ids), \"train clients processed.\")\n",
    "print(train_client_data_all_merged_length, \"train data points available.\")"
   ]
  },
  {
   "cell_type": "code",
   "execution_count": null,
   "metadata": {},
   "outputs": [],
   "source": [
    "# How many training steps will be there?\n",
    "import math\n",
    "num_training_steps = math.ceil(train_client_data_all_merged_length / EXPERIMENT_CONFIG['BATCH_SIZE'])\n",
    "print(\"There will be\", num_training_steps, \"training steps.\")"
   ]
  },
  {
   "cell_type": "code",
   "execution_count": null,
   "metadata": {
    "colab": {
     "base_uri": "https://localhost:8080/"
    },
    "executionInfo": {
     "elapsed": 67997,
     "status": "ok",
     "timestamp": 1605971415116,
     "user": {
      "displayName": "Ronald Seoh",
      "photoUrl": "",
      "userId": "10284188050297676522"
     },
     "user_tz": 300
    },
    "id": "K-YFkR4CDhhC",
    "outputId": "d89d9a87-b3ec-4bf2-8a27-2a3a304bf801"
   },
   "outputs": [],
   "source": [
    "train_client_data_all_merged = preprocess_for_train(train_client_data_all_merged)"
   ]
  },
  {
   "cell_type": "code",
   "execution_count": null,
   "metadata": {
    "colab": {
     "base_uri": "https://localhost:8080/"
    },
    "executionInfo": {
     "elapsed": 67989,
     "status": "ok",
     "timestamp": 1605971415121,
     "user": {
      "displayName": "Ronald Seoh",
      "photoUrl": "",
      "userId": "10284188050297676522"
     },
     "user_tz": 300
    },
    "id": "YohjkEIZEJ__",
    "outputId": "8a62923a-cde6-4852-9fa5-c6dced6541b2"
   },
   "outputs": [],
   "source": [
    "print(train_client_data_all_merged.element_spec)"
   ]
  },
  {
   "cell_type": "markdown",
   "metadata": {
    "id": "HUnkMwq4MXRo"
   },
   "source": [
    "### Test set"
   ]
  },
  {
   "cell_type": "code",
   "execution_count": null,
   "metadata": {
    "id": "vNOmMDKTMXRo"
   },
   "outputs": [],
   "source": [
    "# Since the stackoverflow dataset is pretty large, we randomly select TEST_NUM_CLIENT_LIMIT number of clients.\n",
    "all_test_client_ids = test_client_data.client_ids\n",
    "\n",
    "random.shuffle(all_test_client_ids)\n",
    "\n",
    "if EXPERIMENT_CONFIG['TEST_NUM_CLIENT_LIMIT'] > 0:\n",
    "    selected_test_client_ids = all_test_client_ids[0:EXPERIMENT_CONFIG['TEST_NUM_CLIENT_LIMIT']]\n",
    "else:\n",
    "    selected_test_client_ids = all_test_client_ids"
   ]
  },
  {
   "cell_type": "code",
   "execution_count": null,
   "metadata": {
    "id": "-X8beaHakOge"
   },
   "outputs": [],
   "source": [
    "test_client_data_all_merged = None\n",
    "test_client_data_all_merged_length = 0\n",
    "\n",
    "for i in tqdm.notebook.tqdm(range(len(selected_test_client_ids))):\n",
    "    # Get the current client dataset while filtering out empty data points\n",
    "    current_client_data = test_client_data.create_tf_dataset_for_client(selected_test_client_ids[i]).filter(check_empty_snippet)\n",
    "\n",
    "    # How many data points in this client's dataset?\n",
    "    # Apparently iterating through each of them is the only way to get the lengths of tf.data.Dataset\n",
    "    # This is not very cool tbh.\n",
    "    for _ in tqdm.notebook.tqdm(current_client_data, leave=False):\n",
    "        test_client_data_all_merged_length = test_client_data_all_merged_length + 1 \n",
    "\n",
    "    if test_client_data_all_merged is None:\n",
    "        test_client_data_all_merged = current_client_data\n",
    "    else:\n",
    "        test_client_data_all_merged = test_client_data_all_merged.concatenate(current_client_data)\n",
    "        \n",
    "print(len(selected_test_client_ids), \"train clients processed.\")\n",
    "print(test_client_data_all_merged_length, \"train data points available.\")"
   ]
  },
  {
   "cell_type": "code",
   "execution_count": null,
   "metadata": {
    "id": "Wj_jUe1MnVpx"
   },
   "outputs": [],
   "source": [
    "test_client_data_all_merged = preprocess_for_test(test_client_data_all_merged)"
   ]
  },
  {
   "cell_type": "code",
   "execution_count": null,
   "metadata": {
    "id": "uMHORtFjMXRo",
    "outputId": "d27d24d5-2af6-419e-fd81-d4a9521602b9"
   },
   "outputs": [],
   "source": [
    "print(test_client_data_all_merged.element_spec)"
   ]
  },
  {
   "cell_type": "markdown",
   "metadata": {
    "id": "_o5NZpuzFQw7"
   },
   "source": [
    "## Model"
   ]
  },
  {
   "cell_type": "code",
   "execution_count": null,
   "metadata": {
    "colab": {
     "base_uri": "https://localhost:8080/"
    },
    "executionInfo": {
     "elapsed": 84609,
     "status": "ok",
     "timestamp": 1605971431782,
     "user": {
      "displayName": "Ronald Seoh",
      "photoUrl": "",
      "userId": "10284188050297676522"
     },
     "user_tz": 300
    },
    "id": "kfTDbXNpnr1A",
    "outputId": "ade5e7df-9939-4c04-ef80-51e5e15aca7b"
   },
   "outputs": [],
   "source": [
    "bert_model = transformers.TFAutoModelForPreTraining.from_pretrained(\n",
    "    EXPERIMENT_CONFIG['HUGGINGFACE_MODEL_NAME'], cache_dir=EXPERIMENT_CONFIG['HUGGINGFACE_CACHE_DIR'])"
   ]
  },
  {
   "cell_type": "code",
   "execution_count": null,
   "metadata": {
    "colab": {
     "base_uri": "https://localhost:8080/"
    },
    "executionInfo": {
     "elapsed": 84600,
     "status": "ok",
     "timestamp": 1605971431786,
     "user": {
      "displayName": "Ronald Seoh",
      "photoUrl": "",
      "userId": "10284188050297676522"
     },
     "user_tz": 300
    },
    "id": "4xrKChglOi9J",
    "outputId": "7e1fde9e-79c9-4acb-cfc9-86fdef025092"
   },
   "outputs": [],
   "source": [
    "print(bert_model.config)"
   ]
  },
  {
   "cell_type": "code",
   "execution_count": null,
   "metadata": {
    "id": "FDOF1EcWrOVJ"
   },
   "outputs": [],
   "source": [
    "# Generate a new model with pretrained weights\n",
    "# Due to the limitations with Keras subclasses,\n",
    "# we can only use the main layer part from pretrained models\n",
    "# and add output heads by ourselves\n",
    "bert_keras_converted = utils.convert_huggingface_mlm_to_keras(\n",
    "    huggingface_model=bert_model,\n",
    "    max_seq_length=EXPERIMENT_CONFIG['BERT_MAX_SEQ_LENGTH'],\n",
    ")"
   ]
  },
  {
   "cell_type": "code",
   "execution_count": null,
   "metadata": {
    "colab": {
     "base_uri": "https://localhost:8080/"
    },
    "executionInfo": {
     "elapsed": 93688,
     "status": "ok",
     "timestamp": 1605971440890,
     "user": {
      "displayName": "Ronald Seoh",
      "photoUrl": "",
      "userId": "10284188050297676522"
     },
     "user_tz": 300
    },
    "id": "uTbzF5dzxKeL",
    "outputId": "4bf41bc1-3d17-4812-e579-560a7556db31"
   },
   "outputs": [],
   "source": [
    "bert_keras_converted.summary()"
   ]
  },
  {
   "cell_type": "markdown",
   "metadata": {
    "id": "qM6T_Mp8FQxQ"
   },
   "source": [
    "## Training / Testing"
   ]
  },
  {
   "cell_type": "code",
   "execution_count": null,
   "metadata": {
    "colab": {
     "base_uri": "https://localhost:8080/",
     "height": 1000
    },
    "id": "oqCXFc7gFQxl",
    "outputId": "847f79d7-dc12-45e8-e3f2-862062882f42"
   },
   "outputs": [],
   "source": [
    "for lr in EXPERIMENT_CONFIG['CENTRALIZED_LEARNING_RATE']:  \n",
    "    config_name = \"%.7f\" % (lr)\n",
    "    logdir = os.path.join(EXPERIMENT_CONFIG['RESULTS_LOG'], config_name)\n",
    "    \n",
    "    print(\"----\")\n",
    "    print(\"Running\", config_name)\n",
    "\n",
    "    # A fresh copy of the model for the current config\n",
    "    bert_keras_converted_cloned = tf.keras.models.clone_model(bert_keras_converted)\n",
    "\n",
    "    # Always start with the pretrained weights\n",
    "    bert_keras_converted_cloned.set_weights(bert_keras_converted.get_weights())\n",
    "\n",
    "    # Optimizer\n",
    "    adamw_optimizer, lr_schedule = transformers.create_optimizer(\n",
    "        init_lr=lr,\n",
    "        num_train_steps=num_training_steps,\n",
    "        num_warmup_steps=int(num_training_steps * (2/5)),\n",
    "        weight_decay_rate=0.01,\n",
    "    )\n",
    "\n",
    "    bert_keras_converted_cloned.compile(\n",
    "        optimizer=adamw_optimizer,\n",
    "        loss=utils.MaskedLMCrossEntropy(),\n",
    "    )\n",
    "\n",
    "    bert_keras_converted_cloned.fit(\n",
    "        train_client_data_all_merged,\n",
    "        epochs=EXPERIMENT_CONFIG['CENTRALIZED_EPOCHS'],\n",
    "        validation_data=test_client_data_all_merged,\n",
    "        validation_freq=EXPERIMENT_CONFIG['VALIDATION_FREQUENCY'],\n",
    "        callbacks=[\n",
    "            tf.keras.callbacks.TensorBoard(logdir),\n",
    "        ],\n",
    "        worker=20,\n",
    "    )\n",
    "\n",
    "    bert_keras_converted_cloned.evaluate(test_client_data_all_merged)\n",
    "\n",
    "    # Save the trained model for the current configuartion\n",
    "    bert_keras_converted_cloned.save(\n",
    "        os.path.join(EXPERIMENT_CONFIG['RESULTS_MODEL'], config_name))\n",
    "    \n",
    "    print()"
   ]
  },
  {
   "cell_type": "code",
   "execution_count": null,
   "metadata": {},
   "outputs": [],
   "source": []
  }
 ],
 "metadata": {
  "accelerator": "GPU",
  "colab": {
   "collapsed_sections": [],
   "name": "mobilebert_mlm_stackoverflow_centralized.ipynb",
   "provenance": [],
   "toc_visible": true
  },
  "kernelspec": {
   "display_name": "Python 3",
   "language": "python",
   "name": "python3"
  },
  "language_info": {
   "codemirror_mode": {
    "name": "ipython",
    "version": 3
   },
   "file_extension": ".py",
   "mimetype": "text/x-python",
   "name": "python",
   "nbconvert_exporter": "python",
   "pygments_lexer": "ipython3",
   "version": "3.7.7"
  },
  "toc": {
   "base_numbering": 1,
   "nav_menu": {
    "height": "414px",
    "width": "332px"
   },
   "number_sections": true,
   "sideBar": true,
   "skip_h1_title": false,
   "title_cell": "Table of Contents",
   "title_sidebar": "Contents",
   "toc_cell": false,
   "toc_position": {},
   "toc_section_display": true,
   "toc_window_display": false
  }
 },
 "nbformat": 4,
 "nbformat_minor": 1
}
