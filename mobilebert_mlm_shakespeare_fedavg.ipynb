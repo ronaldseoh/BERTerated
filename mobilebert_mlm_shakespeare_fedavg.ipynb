{
 "cells": [
  {
   "cell_type": "markdown",
   "metadata": {
    "id": "d6qruq9ZFQsN"
   },
   "source": [
    "# Further Pre-training MobileBERT MLM with Federated Averaging (Shakepeare)"
   ]
  },
  {
   "cell_type": "code",
   "execution_count": null,
   "metadata": {
    "id": "-AgOn_qCFQsk"
   },
   "outputs": [],
   "source": [
    "# Copyright 2020, The TensorFlow Federated Authors.\n",
    "# Copyright 2020, Ronald Seoh\n",
    "#\n",
    "# Licensed under the Apache License, Version 2.0 (the \"License\");\n",
    "# you may not use this file except in compliance with the License.\n",
    "# You may obtain a copy of the License at\n",
    "#\n",
    "#      http://www.apache.org/licenses/LICENSE-2.0\n",
    "#\n",
    "# Unless required by applicable law or agreed to in writing, software\n",
    "# distributed under the License is distributed on an \"AS IS\" BASIS,\n",
    "# WITHOUT WARRANTIES OR CONDITIONS OF ANY KIND, either express or implied.\n",
    "# See the License for the specific language governing permissions and\n",
    "# limitations under the License."
   ]
  },
  {
   "cell_type": "markdown",
   "metadata": {
    "id": "7zUGmvEbFQts"
   },
   "source": [
    "### Google Colab settings"
   ]
  },
  {
   "cell_type": "code",
   "execution_count": null,
   "metadata": {
    "id": "_1nBG9qaFQt9"
   },
   "outputs": [],
   "source": [
    "# Use Google Colab\n",
    "use_colab = True\n",
    "\n",
    "# Is this notebook running on Colab?\n",
    "# If so, then google.colab package (github.com/googlecolab/colabtools)\n",
    "# should be available in this environment\n",
    "\n",
    "# Previous version used importlib, but we could do the same thing with\n",
    "# just attempting to import google.colab\n",
    "try:\n",
    "    from google.colab import drive\n",
    "    colab_available = True\n",
    "except:\n",
    "    colab_available = False\n",
    "\n",
    "if use_colab and colab_available:\n",
    "    # Mount Google Drive root directory\n",
    "    drive.mount('/content/drive')\n",
    "\n",
    "    # cd to the appropriate working directory under my Google Drive\n",
    "    %cd '/content/drive/My Drive/Colab Notebooks/BERTerated'\n",
    "    \n",
    "    # List the directory contents\n",
    "    !ls"
   ]
  },
  {
   "cell_type": "markdown",
   "metadata": {
    "id": "xN8078Eoh-au"
   },
   "source": [
    "### CUDA Multi GPU"
   ]
  },
  {
   "cell_type": "code",
   "execution_count": null,
   "metadata": {
    "id": "urL8mY9mh-av"
   },
   "outputs": [],
   "source": [
    "# Use this code snippet to use specific GPUs\n",
    "# import os\n",
    "\n",
    "# os.environ[\"CUDA_DEVICE_ORDER\"]=\"PCI_BUS_ID\"\n",
    "\n",
    "# os.environ[\"CUDA_VISIBLE_DEVICES\"]=\"1,2,3\""
   ]
  },
  {
   "cell_type": "code",
   "execution_count": null,
   "metadata": {
    "id": "Erojcp_oTfDn"
   },
   "outputs": [],
   "source": [
    "# IPython reloading magic\n",
    "%load_ext autoreload\n",
    "%autoreload 2"
   ]
  },
  {
   "cell_type": "code",
   "execution_count": null,
   "metadata": {
    "id": "D_PBfwhLUQ03"
   },
   "outputs": [],
   "source": [
    "# Install required packages\n",
    "!pip install -r requirements.txt"
   ]
  },
  {
   "cell_type": "markdown",
   "metadata": {
    "id": "F16eB2w-FQuw"
   },
   "source": [
    "## Import packages"
   ]
  },
  {
   "cell_type": "code",
   "execution_count": null,
   "metadata": {
    "colab": {
     "base_uri": "https://localhost:8080/"
    },
    "executionInfo": {
     "elapsed": 1681,
     "status": "ok",
     "timestamp": 1606088695739,
     "user": {
      "displayName": "Ronald Seoh",
      "photoUrl": "",
      "userId": "10284188050297676522"
     },
     "user_tz": 300
    },
    "id": "k_SnruV2FQu0",
    "outputId": "15bc84ea-1aed-4e68-bb49-066c2548afe4"
   },
   "outputs": [],
   "source": [
    "import os\n",
    "import sys\n",
    "import random\n",
    "import datetime\n",
    "import json\n",
    "import pathlib\n",
    "import itertools\n",
    "\n",
    "import numpy as np\n",
    "import tensorflow as tf\n",
    "import tensorflow_federated as tff\n",
    "import tensorflow_text as tf_text\n",
    "import tensorflow_addons as tfa\n",
    "import transformers\n",
    "\n",
    "import nest_asyncio\n",
    "nest_asyncio.apply()\n",
    "\n",
    "import fedavg\n",
    "import fedavg_client\n",
    "import datasets\n",
    "import utils\n",
    "\n",
    "\n",
    "# Random seed settings\n",
    "random_seed = 692\n",
    "random.seed(random_seed) # Python\n",
    "np.random.seed(random_seed) # NumPy\n",
    "tf.random.set_seed(random_seed) # TensorFlow\n",
    "\n",
    "# Tensorflow GPU\n",
    "print(\"Num GPUs Available: \", len(tf.config.experimental.list_physical_devices('GPU')))\n",
    "\n",
    "# Test if TFF is working\n",
    "tff.federated_computation(lambda: 'Hello, World!')()"
   ]
  },
  {
   "cell_type": "code",
   "execution_count": null,
   "metadata": {
    "colab": {
     "base_uri": "https://localhost:8080/"
    },
    "executionInfo": {
     "elapsed": 122299,
     "status": "ok",
     "timestamp": 1606088637005,
     "user": {
      "displayName": "Ronald Seoh",
      "photoUrl": "",
      "userId": "10284188050297676522"
     },
     "user_tz": 300
    },
    "id": "FHYxELiQFQvI",
    "outputId": "0799ed2b-6fe5-40aa-8f76-722894006153"
   },
   "outputs": [],
   "source": [
    "# Print version information\n",
    "print(\"Python version: \" + sys.version)\n",
    "print(\"NumPy version: \" + np.__version__)\n",
    "print(\"TensorFlow version: \" + tf.__version__)\n",
    "print(\"TensorFlow Federated version: \" + tff.__version__)\n",
    "print(\"Transformers version: \" + transformers.__version__)"
   ]
  },
  {
   "cell_type": "code",
   "execution_count": null,
   "metadata": {
    "colab": {
     "base_uri": "https://localhost:8080/"
    },
    "executionInfo": {
     "elapsed": 122275,
     "status": "ok",
     "timestamp": 1606088637009,
     "user": {
      "displayName": "Ronald Seoh",
      "photoUrl": "",
      "userId": "10284188050297676522"
     },
     "user_tz": 300
    },
    "id": "KGCWO7YprvKD",
    "outputId": "6b911b85-a8bb-4f17-824d-a8b7ca91bf6d"
   },
   "outputs": [],
   "source": [
    "!nvidia-smi"
   ]
  },
  {
   "cell_type": "code",
   "execution_count": null,
   "metadata": {
    "id": "QSEmIf8Rh-az",
    "outputId": "f530462b-d22f-46df-a91f-138f7c094a77"
   },
   "outputs": [],
   "source": [
    "tf_logical_devices = tf.config.list_logical_devices()\n",
    "print(tf_logical_devices)"
   ]
  },
  {
   "cell_type": "markdown",
   "metadata": {
    "id": "NYXMEboAFQvd"
   },
   "source": [
    "## Experiment Settings"
   ]
  },
  {
   "cell_type": "code",
   "execution_count": null,
   "metadata": {
    "id": "M071lqOQFQvi"
   },
   "outputs": [],
   "source": [
    "EXPERIMENT_CONFIG = {}\n",
    "\n",
    "EXPERIMENT_CONFIG['HUGGINGFACE_MODEL_NAME'] = 'google/mobilebert-uncased'\n",
    "EXPERIMENT_CONFIG['HUGGINGFACE_CACHE_DIR'] = os.path.join('.', 'transformers_cache')\n",
    "\n",
    "EXPERIMENT_CONFIG['TOTAL_ROUNDS'] = 100 # Number of total training rounds\n",
    "EXPERIMENT_CONFIG['ROUNDS_PER_EVAL'] = 10 # How often to evaluate\n",
    "\n",
    "EXPERIMENT_CONFIG['TRAIN_CLIENTS_PER_ROUND'] = 10 # How many clients to sample per round.\n",
    "EXPERIMENT_CONFIG['CLIENT_EPOCHS_PER_ROUND'] = 3\n",
    "\n",
    "EXPERIMENT_CONFIG['BATCH_SIZE'] = 8 # Batch size used on the client.\n",
    "EXPERIMENT_CONFIG['TEST_BATCH_SIZE'] = 16 # Minibatch size of test data.\n",
    "\n",
    "# Maximum length of input token sequence for BERT.\n",
    "EXPERIMENT_CONFIG['BERT_MAX_SEQ_LENGTH'] = 128\n",
    "\n",
    "# Optimizer configuration\n",
    "EXPERIMENT_CONFIG['SERVER_LEARNING_RATE'] = 1.0 # Server learning rate.\n",
    "EXPERIMENT_CONFIG['CLIENT_LEARNING_RATE'] = 5e-5 # Client learning rate\n",
    "\n",
    "# Client dataset setting\n",
    "EXPERIMENT_CONFIG['TRAIN_NUM_CLIENT_LIMIT'] = -1\n",
    "EXPERIMENT_CONFIG['TEST_NUM_CLIENT_LIMIT'] = -1\n",
    "\n",
    "# Path to save trained weights and logs\n",
    "EXPERIMENT_CONFIG['RESULTS_DIRECTORY'] = os.path.join(\n",
    "    '.', 'results',\n",
    "    'mobilebert_mlm_shakespeare_fedavg',\n",
    "    datetime.datetime.now().strftime(\"%Y%m%d-%H%M%S\")\n",
    ")\n",
    "\n",
    "EXPERIMENT_CONFIG['RESULTS_LOG'] = os.path.join(EXPERIMENT_CONFIG['RESULTS_DIRECTORY'], \"logs\")\n",
    "EXPERIMENT_CONFIG['RESULTS_MODEL'] = os.path.join(EXPERIMENT_CONFIG['RESULTS_DIRECTORY'], \"model\")\n",
    "EXPERIMENT_CONFIG['RESULTS_CONFIG'] = os.path.join(EXPERIMENT_CONFIG['RESULTS_DIRECTORY'], \"config\")"
   ]
  },
  {
   "cell_type": "code",
   "execution_count": null,
   "metadata": {
    "id": "_mg9h33jTfDu"
   },
   "outputs": [],
   "source": [
    "# Dump all the configuration into a json file\n",
    "pathlib.Path(EXPERIMENT_CONFIG['RESULTS_CONFIG']).mkdir(parents=True, exist_ok=True)\n",
    "\n",
    "with open(os.path.join(EXPERIMENT_CONFIG['RESULTS_CONFIG'], \"config.json\"), 'w') as config_file:\n",
    "    json.dump(EXPERIMENT_CONFIG, config_file, indent=6)"
   ]
  },
  {
   "cell_type": "code",
   "execution_count": null,
   "metadata": {
    "id": "uPVWWix6h-a0"
   },
   "outputs": [],
   "source": [
    "# TFF executor factory settings\n",
    "# Reference: https://www.tensorflow.org/federated/api_docs/python/tff/framework/local_executor_factory\n",
    "tff.backends.native.set_local_execution_context(\n",
    "    num_clients=EXPERIMENT_CONFIG['TRAIN_CLIENTS_PER_ROUND'],\n",
    "    max_fanout=100,\n",
    "    clients_per_thread=2,\n",
    "    server_tf_device=tf_logical_devices[0],\n",
    "    client_tf_devices=tf_logical_devices[2,3,4],\n",
    ")"
   ]
  },
  {
   "cell_type": "markdown",
   "metadata": {
    "id": "u-tHcHX0FQvz"
   },
   "source": [
    "## Dataset"
   ]
  },
  {
   "cell_type": "markdown",
   "metadata": {
    "id": "ViLRf52DTfDv"
   },
   "source": [
    "### Dataset loader"
   ]
  },
  {
   "cell_type": "code",
   "execution_count": null,
   "metadata": {
    "id": "cVkK1BV9FQv3"
   },
   "outputs": [],
   "source": [
    "train_client_data, test_client_data = tff.simulation.datasets.shakespeare.load_data(cache_dir='./tff_cache')"
   ]
  },
  {
   "cell_type": "markdown",
   "metadata": {
    "id": "WNYlFQJ3Wt1O"
   },
   "source": [
    "### Tokenizer"
   ]
  },
  {
   "cell_type": "code",
   "execution_count": null,
   "metadata": {
    "id": "ZXmJYQbeFQwG"
   },
   "outputs": [],
   "source": [
    "bert_tokenizer = transformers.AutoTokenizer.from_pretrained(\n",
    "    EXPERIMENT_CONFIG['HUGGINGFACE_MODEL_NAME'], cache_dir=EXPERIMENT_CONFIG['HUGGINGFACE_CACHE_DIR'])"
   ]
  },
  {
   "cell_type": "code",
   "execution_count": null,
   "metadata": {
    "id": "8c7S9s9qRlsi"
   },
   "outputs": [],
   "source": [
    "# Imitate transformers tokenizer with TF.Text Tokenizer\n",
    "tokenizer_tf_text, vocab_lookup_table, special_ids_mask_table = \\\n",
    "datasets.preprocessing_for_bert.convert_huggingface_tokenizer(bert_tokenizer)"
   ]
  },
  {
   "cell_type": "markdown",
   "metadata": {
    "id": "_sfMNvpmFQwW"
   },
   "source": [
    "### Preprocessing"
   ]
  },
  {
   "cell_type": "code",
   "execution_count": null,
   "metadata": {
    "id": "oIOw1zG1RfnU"
   },
   "outputs": [],
   "source": [
    "def check_empty_snippet(x):\n",
    "    return tf.strings.length(x['snippets']) > 0\n",
    "\n",
    "def tokenizer_and_mask_wrapped(x):\n",
    "\n",
    "    masked, labels = datasets.preprocessing_for_bert.tokenize_and_mask(tf.reshape(x['snippets'], shape=[1]),\n",
    "                                                                       max_seq_length=EXPERIMENT_CONFIG['BERT_MAX_SEQ_LENGTH'],\n",
    "                                                                       bert_tokenizer_tf_text=tokenizer_tf_text,\n",
    "                                                                       vocab_lookup_table=vocab_lookup_table,\n",
    "                                                                       special_ids_mask_table=special_ids_mask_table,\n",
    "                                                                       cls_token_id=bert_tokenizer.cls_token_id,\n",
    "                                                                       sep_token_id=bert_tokenizer.sep_token_id,\n",
    "                                                                       pad_token_id=bert_tokenizer.pad_token_id,\n",
    "                                                                       mask_token_id=bert_tokenizer.mask_token_id)\n",
    "\n",
    "    return (masked, labels)\n",
    "\n",
    "def preprocess_for_train(train_dataset):\n",
    "    return (\n",
    "        train_dataset\n",
    "        # Tokenize each samples using MobileBERT tokenizer\n",
    "        #.map(tokenizer_and_mask_wrapped, num_parallel_calls=tf.data.experimental.AUTOTUNE, deterministic=False)\n",
    "        .map(tokenizer_and_mask_wrapped, num_parallel_calls=20, deterministic=False)\n",
    "        # Shuffle\n",
    "        .shuffle(100000)\n",
    "        # Form minibatches\n",
    "        # Use drop_remainder=True to force the batch size to be exactly BATCH_SIZE\n",
    "        # and make the shape **exactly** (BATCH_SIZE, SEQ_LENGTH)\n",
    "        .batch(EXPERIMENT_CONFIG['BATCH_SIZE'])#, drop_remainder=True)\n",
    "        # Repeat to make each client train multiple epochs\n",
    "        .repeat(count=EXPERIMENT_CONFIG['CLIENT_EPOCHS_PER_ROUND'])\n",
    "    )\n",
    "    \n",
    "def preprocess_for_test(test_dataset):\n",
    "    return (\n",
    "        test_dataset\n",
    "        # Tokenize each samples using MobileBERT tokenizer\n",
    "        #.map(tokenizer_and_mask_wrapped, num_parallel_calls=tf.data.experimental.AUTOTUNE, deterministic=False)\n",
    "        .map(tokenizer_and_mask_wrapped, num_parallel_calls=20, deterministic=False)\n",
    "        # Shuffle\n",
    "        .shuffle(100000)\n",
    "        # Form minibatches\n",
    "        # Use drop_remainder=True to force the batch size to be exactly TEST_BATCH_SIZE\n",
    "        # and make the shape **exactly** (TEST_BATCH_SIZE, SEQ_LENGTH)\n",
    "        .batch(EXPERIMENT_CONFIG['TEST_BATCH_SIZE'])#, drop_remainder=True)\n",
    "    )   "
   ]
  },
  {
   "cell_type": "markdown",
   "metadata": {
    "id": "hjtIARunTfDw"
   },
   "source": [
    "### Training set"
   ]
  },
  {
   "cell_type": "code",
   "execution_count": null,
   "metadata": {
    "id": "oQFfWtG1TfDw"
   },
   "outputs": [],
   "source": [
    "# Since the dataset is pretty large, we randomly select TRAIN_NUM_CLIENT_LIMIT number of clients.\n",
    "all_train_client_ids = train_client_data.client_ids\n",
    "\n",
    "random.shuffle(all_train_client_ids)\n",
    "\n",
    "if EXPERIMENT_CONFIG['TRAIN_NUM_CLIENT_LIMIT'] > 0:\n",
    "    selected_train_client_ids = all_train_client_ids[0:EXPERIMENT_CONFIG['TRAIN_NUM_CLIENT_LIMIT']]\n",
    "else:\n",
    "    selected_train_client_ids = all_train_client_ids"
   ]
  },
  {
   "cell_type": "code",
   "execution_count": null,
   "metadata": {
    "id": "kJHkMtw9oTZ4"
   },
   "outputs": [],
   "source": [
    "train_client_data = train_client_data.preprocess(preprocess_fn=lambda x: x.filter(check_empty_snippet))"
   ]
  },
  {
   "cell_type": "code",
   "execution_count": null,
   "metadata": {
    "colab": {
     "base_uri": "https://localhost:8080/"
    },
    "executionInfo": {
     "elapsed": 5506,
     "status": "ok",
     "timestamp": 1606088731059,
     "user": {
      "displayName": "Ronald Seoh",
      "photoUrl": "",
      "userId": "10284188050297676522"
     },
     "user_tz": 300
    },
    "id": "zMIo2trUC7F7",
    "outputId": "23e607a4-b519-458f-c472-88a787f36d9f"
   },
   "outputs": [],
   "source": [
    "train_client_data = train_client_data.preprocess(preprocess_fn=preprocess_for_train)"
   ]
  },
  {
   "cell_type": "code",
   "execution_count": null,
   "metadata": {
    "colab": {
     "base_uri": "https://localhost:8080/"
    },
    "executionInfo": {
     "elapsed": 4161,
     "status": "ok",
     "timestamp": 1606088731064,
     "user": {
      "displayName": "Ronald Seoh",
      "photoUrl": "",
      "userId": "10284188050297676522"
     },
     "user_tz": 300
    },
    "id": "8QkftPB_TfDx",
    "outputId": "c6721de5-3879-4b5d-ca27-803ef3ad4d3a"
   },
   "outputs": [],
   "source": [
    "print(train_client_data.element_type_structure)"
   ]
  },
  {
   "cell_type": "markdown",
   "metadata": {
    "id": "ioWWeZ6_TfD3"
   },
   "source": [
    "### Test set"
   ]
  },
  {
   "cell_type": "code",
   "execution_count": null,
   "metadata": {
    "id": "U_yi6VEzTfD3"
   },
   "outputs": [],
   "source": [
    "test_client_data_all_merged = test_client_data.create_tf_dataset_for_client(\n",
    "    test_client_data.client_ids[0]).filter(check_empty_snippet)\n",
    "\n",
    "if len(test_client_data.client_ids) > 1:\n",
    "    for i in range(1, len(test_client_data.client_ids)):\n",
    "        test_client_data_all_merged = test_client_data_all_merged.concatenate(\n",
    "            test_client_data.create_tf_dataset_for_client(test_client_data.client_ids[i]).filter(check_empty_snippet))"
   ]
  },
  {
   "cell_type": "code",
   "execution_count": null,
   "metadata": {
    "id": "YQLi0RRfTfD3"
   },
   "outputs": [],
   "source": [
    "test_client_data_all_merged = preprocess_for_test(test_client_data_all_merged)"
   ]
  },
  {
   "cell_type": "code",
   "execution_count": null,
   "metadata": {
    "id": "vhUf1XLyh-a1"
   },
   "outputs": [],
   "source": [
    "test_client_data_all_merged = test_client_data_all_merged.cache()"
   ]
  },
  {
   "cell_type": "code",
   "execution_count": null,
   "metadata": {
    "id": "VAW-itXEh-a1"
   },
   "outputs": [],
   "source": [
    "test_client_data_all_merged = test_client_data_all_merged.prefetch(10000)"
   ]
  },
  {
   "cell_type": "code",
   "execution_count": null,
   "metadata": {
    "colab": {
     "base_uri": "https://localhost:8080/"
    },
    "executionInfo": {
     "elapsed": 1163,
     "status": "ok",
     "timestamp": 1606088747234,
     "user": {
      "displayName": "Ronald Seoh",
      "photoUrl": "",
      "userId": "10284188050297676522"
     },
     "user_tz": 300
    },
    "id": "HjHKEEk2TfD3",
    "outputId": "36d32b9a-be95-46e8-b030-a68e3fba93db"
   },
   "outputs": [],
   "source": [
    "print(test_client_data_all_merged.element_spec)"
   ]
  },
  {
   "cell_type": "markdown",
   "metadata": {
    "id": "_o5NZpuzFQw7"
   },
   "source": [
    "## Model"
   ]
  },
  {
   "cell_type": "code",
   "execution_count": null,
   "metadata": {
    "colab": {
     "base_uri": "https://localhost:8080/"
    },
    "executionInfo": {
     "elapsed": 7983,
     "status": "ok",
     "timestamp": 1606088756734,
     "user": {
      "displayName": "Ronald Seoh",
      "photoUrl": "",
      "userId": "10284188050297676522"
     },
     "user_tz": 300
    },
    "id": "kfTDbXNpnr1A",
    "outputId": "dbf85091-b112-436b-a314-5ffba06799ee"
   },
   "outputs": [],
   "source": [
    "bert_model = transformers.TFAutoModelForPreTraining.from_pretrained(\n",
    "    EXPERIMENT_CONFIG['HUGGINGFACE_MODEL_NAME'], cache_dir=EXPERIMENT_CONFIG['HUGGINGFACE_CACHE_DIR'])"
   ]
  },
  {
   "cell_type": "code",
   "execution_count": null,
   "metadata": {
    "colab": {
     "base_uri": "https://localhost:8080/"
    },
    "executionInfo": {
     "elapsed": 911,
     "status": "ok",
     "timestamp": 1606088759263,
     "user": {
      "displayName": "Ronald Seoh",
      "photoUrl": "",
      "userId": "10284188050297676522"
     },
     "user_tz": 300
    },
    "id": "jm1u4FUsTfD4",
    "outputId": "c2da03b4-5d35-4a08-ccf9-fca89ef7cbb3"
   },
   "outputs": [],
   "source": [
    "print(bert_model.config)"
   ]
  },
  {
   "cell_type": "code",
   "execution_count": null,
   "metadata": {
    "executionInfo": {
     "elapsed": 9761,
     "status": "ok",
     "timestamp": 1606088771677,
     "user": {
      "displayName": "Ronald Seoh",
      "photoUrl": "",
      "userId": "10284188050297676522"
     },
     "user_tz": 300
    },
    "id": "FDOF1EcWrOVJ",
    "outputId": "c808d38d-43ad-4eab-8272-fe2fe6d70d82"
   },
   "outputs": [],
   "source": [
    "# Due to the limitations with Keras subclasses, we can only use the main layer part from pretrained models\n",
    "# and add output heads by ourselves\n",
    "bert_keras_converted = utils.convert_huggingface_mlm_to_keras(\n",
    "    huggingface_model=bert_model,\n",
    "    max_seq_length=EXPERIMENT_CONFIG['BERT_MAX_SEQ_LENGTH'],\n",
    ")"
   ]
  },
  {
   "cell_type": "code",
   "execution_count": null,
   "metadata": {
    "id": "tblHhwjqEqfw"
   },
   "outputs": [],
   "source": [
    "# Use lists of NumPy arrays to backup pretained weights\n",
    "bert_pretrained_trainable_weights = []\n",
    "bert_pretrained_non_trainable_weights = []\n",
    "\n",
    "for w in bert_keras_converted.trainable_weights:\n",
    "    bert_pretrained_trainable_weights.append(w.numpy())\n",
    "\n",
    "for w in bert_keras_converted.non_trainable_weights:\n",
    "    bert_pretrained_non_trainable_weights.append(w.numpy())"
   ]
  },
  {
   "cell_type": "code",
   "execution_count": null,
   "metadata": {
    "id": "2kRecwJPFQw-"
   },
   "outputs": [],
   "source": [
    "def tff_model_fn():\n",
    "    \"\"\"Constructs a fully initialized model for use in federated averaging.\"\"\"\n",
    "\n",
    "    loss = utils.MaskedLMCrossEntropy()\n",
    "\n",
    "    model_wrapped = utils.KerasModelWrapper(\n",
    "        tf.keras.models.clone_model(bert_keras_converted),\n",
    "        train_client_data.element_type_structure, loss)\n",
    "\n",
    "    return model_wrapped"
   ]
  },
  {
   "cell_type": "markdown",
   "metadata": {
    "id": "qM6T_Mp8FQxQ"
   },
   "source": [
    "## Training"
   ]
  },
  {
   "cell_type": "markdown",
   "metadata": {
    "id": "zXwPdo-_Qrsk"
   },
   "source": [
    "### Training setups"
   ]
  },
  {
   "cell_type": "code",
   "execution_count": null,
   "metadata": {
    "id": "L6nxGHSyh-az"
   },
   "outputs": [],
   "source": [
    "# from tensorflow.keras.mixed_precision import experimental as mixed_precision\n",
    "# policy = mixed_precision.Policy('mixed_float16')\n",
    "# mixed_precision.set_policy(policy)"
   ]
  },
  {
   "cell_type": "code",
   "execution_count": null,
   "metadata": {
    "id": "bWzYrhYBTfD5"
   },
   "outputs": [],
   "source": [
    "summary_writer = tf.summary.create_file_writer(EXPERIMENT_CONFIG['RESULTS_LOG'])"
   ]
  },
  {
   "cell_type": "code",
   "execution_count": null,
   "metadata": {
    "id": "vPNLTNLWQwDX"
   },
   "outputs": [],
   "source": [
    "def server_optimizer_fn():\n",
    "    return tf.keras.optimizers.SGD(learning_rate=EXPERIMENT_CONFIG['SERVER_LEARNING_RATE'])\n",
    "\n",
    "def client_optimizer_fn():\n",
    "    return tf.keras.optimizers.SGD(learning_rate=EXPERIMENT_CONFIG['CLIENT_LEARNING_RATE'])"
   ]
  },
  {
   "cell_type": "code",
   "execution_count": null,
   "metadata": {
    "id": "qBzCiCkWFQxW"
   },
   "outputs": [],
   "source": [
    "iterative_process = fedavg.build_federated_averaging_process(\n",
    "    model_fn=tff_model_fn,\n",
    "    model_input_spec=train_client_data.element_type_structure,\n",
    "    initial_trainable_weights=bert_pretrained_trainable_weights,\n",
    "    initial_non_trainable_weights=bert_pretrained_non_trainable_weights,\n",
    "    server_optimizer_fn=server_optimizer_fn, \n",
    "    client_optimizer_fn=client_optimizer_fn)"
   ]
  },
  {
   "cell_type": "code",
   "execution_count": null,
   "metadata": {
    "id": "yGAWSNTksOmF"
   },
   "outputs": [],
   "source": [
    "server_state = iterative_process.initialize()"
   ]
  },
  {
   "cell_type": "code",
   "execution_count": null,
   "metadata": {
    "id": "DpdQjiHATfD5"
   },
   "outputs": [],
   "source": [
    "metric_eval = tfa.metrics.MeanMetricWrapper(fn=utils.calculate_masked_lm_cross_entropy, name='test_ce')"
   ]
  },
  {
   "cell_type": "code",
   "execution_count": null,
   "metadata": {
    "id": "qWGC89ZVWt1c"
   },
   "outputs": [],
   "source": [
    "model_final = tff_model_fn() # The one to store the final weights"
   ]
  },
  {
   "cell_type": "markdown",
   "metadata": {
    "id": "u923t4MTTfD5"
   },
   "source": [
    "### Training loop"
   ]
  },
  {
   "cell_type": "code",
   "execution_count": null,
   "metadata": {
    "colab": {
     "base_uri": "https://localhost:8080/"
    },
    "id": "oqCXFc7gFQxl",
    "outputId": "baf2d825-a537-4636-e698-58132b2c0e35",
    "scrolled": true
   },
   "outputs": [],
   "source": [
    "with summary_writer.as_default():\n",
    "    for round_num in range(1, EXPERIMENT_CONFIG['TOTAL_ROUNDS'] + 1):\n",
    "\n",
    "        # Training client selection\n",
    "        sampled_clients = np.random.choice(\n",
    "            all_train_client_ids,\n",
    "            size=EXPERIMENT_CONFIG['TRAIN_CLIENTS_PER_ROUND'],\n",
    "            replace=False)\n",
    "\n",
    "        sampled_train_data = [\n",
    "            train_client_data.create_tf_dataset_for_client(client)\n",
    "            for client in sampled_clients\n",
    "        ]\n",
    "\n",
    "        # FedAvg\n",
    "        print(f'Round {round_num} start!')\n",
    "\n",
    "        server_state, train_loss = iterative_process.next(server_state, sampled_train_data)\n",
    "\n",
    "        print(f'Round {round_num} training loss: {train_loss}')\n",
    "        \n",
    "        # Record the current round's training loss to the log\n",
    "        tf.summary.scalar('train_loss', train_loss, step=round_num)\n",
    "\n",
    "        # Evaluation\n",
    "        if round_num % EXPERIMENT_CONFIG['ROUNDS_PER_EVAL'] == 0:\n",
    "            model_final.from_weights(server_state.model_weights)\n",
    "\n",
    "            # Test dataset generation for this round\n",
    "            print(\"Calculating validation metric:\")\n",
    "\n",
    "            validation_metric = utils.keras_evaluate(\n",
    "                model_final.keras_model, test_client_data_all_merged, metric_eval)\n",
    "\n",
    "            print(f'Round {round_num} validation metric: {validation_metric}')\n",
    "            \n",
    "            # Write down train_metrics to the log\n",
    "            tf.summary.scalar('validation_metric', validation_metric, step=round_num)\n",
    "            \n",
    "        print()"
   ]
  },
  {
   "cell_type": "markdown",
   "metadata": {
    "id": "zxbkOyonTfD7"
   },
   "source": [
    "### Save the trained model"
   ]
  },
  {
   "cell_type": "code",
   "execution_count": null,
   "metadata": {
    "id": "NT7Xr0o0TfD7"
   },
   "outputs": [],
   "source": [
    "model_final.keras_model.save(EXPERIMENT_CONFIG['RESULTS_MODEL'])"
   ]
  },
  {
   "cell_type": "markdown",
   "metadata": {
    "id": "p9dF_Sg2TfD8"
   },
   "source": [
    "## Evaluation"
   ]
  },
  {
   "cell_type": "code",
   "execution_count": null,
   "metadata": {
    "id": "jajT5lLsTfD8"
   },
   "outputs": [],
   "source": [
    "test_metric = utils.keras_evaluate(\n",
    "    model_final.keras_model, test_client_data_all_merged, metric_eval)\n",
    "\n",
    "print(test_metric)"
   ]
  }
 ],
 "metadata": {
  "accelerator": "GPU",
  "colab": {
   "collapsed_sections": [],
   "name": "mobilebert_mlm_shakespeare_fedavg.ipynb",
   "provenance": [],
   "toc_visible": true
  },
  "kernelspec": {
   "display_name": "Python 3",
   "language": "python",
   "name": "python3"
  },
  "language_info": {
   "codemirror_mode": {
    "name": "ipython",
    "version": 3
   },
   "file_extension": ".py",
   "mimetype": "text/x-python",
   "name": "python",
   "nbconvert_exporter": "python",
   "pygments_lexer": "ipython3",
   "version": "3.6.9"
  },
  "toc": {
   "base_numbering": 1,
   "nav_menu": {
    "height": "362px",
    "width": "629px"
   },
   "number_sections": true,
   "sideBar": true,
   "skip_h1_title": false,
   "title_cell": "Table of Contents",
   "title_sidebar": "Contents",
   "toc_cell": false,
   "toc_position": {},
   "toc_section_display": true,
   "toc_window_display": false
  }
 },
 "nbformat": 4,
 "nbformat_minor": 1
}
