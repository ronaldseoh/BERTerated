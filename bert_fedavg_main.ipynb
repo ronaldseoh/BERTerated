{
 "cells": [
  {
   "cell_type": "markdown",
   "metadata": {},
   "source": [
    "# Fine-Tuning MobileBERT with Federated Averaging"
   ]
  },
  {
   "cell_type": "code",
   "execution_count": null,
   "metadata": {},
   "outputs": [],
   "source": [
    "# Copyright 2020, The TensorFlow Federated Authors.\n",
    "# Copyright 2020, Ronald Seoh\n",
    "#\n",
    "# Licensed under the Apache License, Version 2.0 (the \"License\");\n",
    "# you may not use this file except in compliance with the License.\n",
    "# You may obtain a copy of the License at\n",
    "#\n",
    "#      http://www.apache.org/licenses/LICENSE-2.0\n",
    "#\n",
    "# Unless required by applicable law or agreed to in writing, software\n",
    "# distributed under the License is distributed on an \"AS IS\" BASIS,\n",
    "# WITHOUT WARRANTIES OR CONDITIONS OF ANY KIND, either express or implied.\n",
    "# See the License for the specific language governing permissions and\n",
    "# limitations under the License."
   ]
  },
  {
   "cell_type": "markdown",
   "metadata": {},
   "source": [
    "## Google Colab settings"
   ]
  },
  {
   "cell_type": "code",
   "execution_count": null,
   "metadata": {},
   "outputs": [],
   "source": [
    "# Use Google Colab\n",
    "use_colab = True\n",
    "\n",
    "# Is this notebook running on Colab?\n",
    "# If so, then google.colab package (github.com/googlecolab/colabtools)\n",
    "# should be available in this environment\n",
    "\n",
    "# Previous version used importlib, but we could do the same thing with\n",
    "# just attempting to import google.colab\n",
    "try:\n",
    "    from google.colab import drive\n",
    "    colab_available = True\n",
    "except:\n",
    "    colab_available = False\n",
    "\n",
    "if use_colab and colab_available:\n",
    "    drive.mount('/content/drive')\n",
    "    \n",
    "    # If there's a package I need to install separately, do it here\n",
    "    !pip install pyro-ppl\n",
    "\n",
    "    # cd to the appropriate working directory under my Google Drive\n",
    "    %cd 'drive/My Drive/Colab Notebooks/BERTerated'\n",
    "    \n",
    "    # List the directory contents\n",
    "    !ls\n",
    "\n",
    "# IPython reloading magic\n",
    "%load_ext autoreload\n",
    "%autoreload 2\n",
    "\n",
    "# Random seeds\n",
    "# Based on https://pytorch.org/docs/stable/notes/randomness.html\n",
    "random_seed = 692"
   ]
  },
  {
   "cell_type": "code",
   "execution_count": 10,
   "metadata": {},
   "outputs": [
    {
     "name": "stderr",
     "output_type": "stream",
     "text": [
      "[autoreload of transformers failed: Traceback (most recent call last):\n",
      "  File \"/Users/se9/miniconda3/envs/idp-tensorflow-federated/lib/python3.7/site-packages/IPython/extensions/autoreload.py\", line 247, in check\n",
      "    superreload(m, reload, self.old_objects)\n",
      "ImportError: cannot import name 'is_torch_tpu_available' from 'transformers.file_utils' (/Users/se9/miniconda3/envs/idp-tensorflow-federated/lib/python3.7/site-packages/transformers/file_utils.py)\n",
      "]\n",
      "[autoreload of transformers.data failed: Traceback (most recent call last):\n",
      "  File \"/Users/se9/miniconda3/envs/idp-tensorflow-federated/lib/python3.7/site-packages/IPython/extensions/autoreload.py\", line 247, in check\n",
      "    superreload(m, reload, self.old_objects)\n",
      "ImportError: cannot import name 'xnli_compute_metrics' from 'transformers.data.metrics' (/Users/se9/miniconda3/envs/idp-tensorflow-federated/lib/python3.7/site-packages/transformers/data/metrics/__init__.py)\n",
      "]\n",
      "[autoreload of transformers.data.processors failed: Traceback (most recent call last):\n",
      "  File \"/Users/se9/miniconda3/envs/idp-tensorflow-federated/lib/python3.7/site-packages/IPython/extensions/autoreload.py\", line 247, in check\n",
      "    superreload(m, reload, self.old_objects)\n",
      "ImportError: cannot import name 'SingleSentenceClassificationProcessor' from 'transformers.data.processors.utils' (/Users/se9/miniconda3/envs/idp-tensorflow-federated/lib/python3.7/site-packages/transformers/data/processors/utils.py)\n",
      "]\n",
      "[autoreload of transformers.data.processors.utils failed: Traceback (most recent call last):\n",
      "  File \"/Users/se9/miniconda3/envs/idp-tensorflow-federated/lib/python3.7/site-packages/IPython/extensions/autoreload.py\", line 247, in check\n",
      "    superreload(m, reload, self.old_objects)\n",
      "ValueError: __repr__() requires a code object with 0 free vars, not 2\n",
      "]\n",
      "[autoreload of transformers.tokenization_utils failed: Traceback (most recent call last):\n",
      "  File \"/Users/se9/miniconda3/envs/idp-tensorflow-federated/lib/python3.7/site-packages/IPython/extensions/autoreload.py\", line 247, in check\n",
      "    superreload(m, reload, self.old_objects)\n",
      "ValueError: __init__() requires a code object with 0 free vars, not 1\n",
      "]\n",
      "[autoreload of transformers.tokenization_auto failed: Traceback (most recent call last):\n",
      "  File \"/Users/se9/miniconda3/envs/idp-tensorflow-federated/lib/python3.7/site-packages/IPython/extensions/autoreload.py\", line 247, in check\n",
      "    superreload(m, reload, self.old_objects)\n",
      "ImportError: cannot import name 'AlbertConfig' from 'transformers.configuration_auto' (/Users/se9/miniconda3/envs/idp-tensorflow-federated/lib/python3.7/site-packages/transformers/configuration_auto.py)\n",
      "]\n",
      "[autoreload of transformers.tokenization_transfo_xl failed: Traceback (most recent call last):\n",
      "  File \"/Users/se9/miniconda3/envs/idp-tensorflow-federated/lib/python3.7/site-packages/IPython/extensions/autoreload.py\", line 247, in check\n",
      "    superreload(m, reload, self.old_objects)\n",
      "ValueError: encode_file() requires a code object with 0 free vars, not 1\n",
      "]\n",
      "[autoreload of transformers.modeling_auto failed: Traceback (most recent call last):\n",
      "  File \"/Users/se9/miniconda3/envs/idp-tensorflow-federated/lib/python3.7/site-packages/IPython/extensions/autoreload.py\", line 247, in check\n",
      "    superreload(m, reload, self.old_objects)\n",
      "ImportError: cannot import name 'BertLMHeadModel' from 'transformers.modeling_bert' (/Users/se9/miniconda3/envs/idp-tensorflow-federated/lib/python3.7/site-packages/transformers/modeling_bert.py)\n",
      "]\n",
      "[autoreload of transformers.modeling_roberta failed: Traceback (most recent call last):\n",
      "  File \"/Users/se9/miniconda3/envs/idp-tensorflow-federated/lib/python3.7/site-packages/IPython/extensions/autoreload.py\", line 247, in check\n",
      "    superreload(m, reload, self.old_objects)\n",
      "ValueError: forward() requires a code object with 1 free vars, not 0\n",
      "]\n",
      "[autoreload of transformers.modeling_tf_auto failed: Traceback (most recent call last):\n",
      "  File \"/Users/se9/miniconda3/envs/idp-tensorflow-federated/lib/python3.7/site-packages/IPython/extensions/autoreload.py\", line 247, in check\n",
      "    superreload(m, reload, self.old_objects)\n",
      "ImportError: cannot import name 'TFBertLMHeadModel' from 'transformers.modeling_tf_bert' (/Users/se9/miniconda3/envs/idp-tensorflow-federated/lib/python3.7/site-packages/transformers/modeling_tf_bert.py)\n",
      "]\n",
      "[autoreload of transformers.modeling_tf_bert failed: Traceback (most recent call last):\n",
      "  File \"/Users/se9/miniconda3/envs/idp-tensorflow-federated/lib/python3.7/site-packages/IPython/extensions/autoreload.py\", line 247, in check\n",
      "    superreload(m, reload, self.old_objects)\n",
      "ValueError: __init__() requires a code object with 1 free vars, not 2\n",
      "]\n",
      "[autoreload of transformers.modeling_tf_openai failed: Traceback (most recent call last):\n",
      "  File \"/Users/se9/miniconda3/envs/idp-tensorflow-federated/lib/python3.7/site-packages/IPython/extensions/autoreload.py\", line 247, in check\n",
      "    superreload(m, reload, self.old_objects)\n",
      "ValueError: __init__() requires a code object with 1 free vars, not 2\n",
      "]\n",
      "[autoreload of transformers.modeling_tf_gpt2 failed: Traceback (most recent call last):\n",
      "  File \"/Users/se9/miniconda3/envs/idp-tensorflow-federated/lib/python3.7/site-packages/IPython/extensions/autoreload.py\", line 247, in check\n",
      "    superreload(m, reload, self.old_objects)\n",
      "ValueError: __init__() requires a code object with 1 free vars, not 2\n",
      "]\n",
      "[autoreload of transformers.modeling_tf_transfo_xl failed: Traceback (most recent call last):\n",
      "  File \"/Users/se9/miniconda3/envs/idp-tensorflow-federated/lib/python3.7/site-packages/IPython/extensions/autoreload.py\", line 247, in check\n",
      "    superreload(m, reload, self.old_objects)\n",
      "ValueError: __init__() requires a code object with 1 free vars, not 2\n",
      "]\n",
      "[autoreload of transformers.modeling_tf_xlnet failed: Traceback (most recent call last):\n",
      "  File \"/Users/se9/miniconda3/envs/idp-tensorflow-federated/lib/python3.7/site-packages/IPython/extensions/autoreload.py\", line 247, in check\n",
      "    superreload(m, reload, self.old_objects)\n",
      "ValueError: __init__() requires a code object with 1 free vars, not 2\n",
      "]\n",
      "[autoreload of transformers.modeling_tf_xlm failed: Traceback (most recent call last):\n",
      "  File \"/Users/se9/miniconda3/envs/idp-tensorflow-federated/lib/python3.7/site-packages/IPython/extensions/autoreload.py\", line 247, in check\n",
      "    superreload(m, reload, self.old_objects)\n",
      "ValueError: __init__() requires a code object with 1 free vars, not 2\n",
      "]\n",
      "[autoreload of transformers.modeling_tf_roberta failed: Traceback (most recent call last):\n",
      "  File \"/Users/se9/miniconda3/envs/idp-tensorflow-federated/lib/python3.7/site-packages/IPython/extensions/autoreload.py\", line 247, in check\n",
      "    superreload(m, reload, self.old_objects)\n",
      "ValueError: _embedding() requires a code object with 1 free vars, not 0\n",
      "]\n",
      "[autoreload of transformers.modeling_tf_distilbert failed: Traceback (most recent call last):\n",
      "  File \"/Users/se9/miniconda3/envs/idp-tensorflow-federated/lib/python3.7/site-packages/IPython/extensions/autoreload.py\", line 247, in check\n",
      "    superreload(m, reload, self.old_objects)\n",
      "ValueError: __init__() requires a code object with 1 free vars, not 2\n",
      "]\n",
      "[autoreload of transformers.modeling_tf_ctrl failed: Traceback (most recent call last):\n",
      "  File \"/Users/se9/miniconda3/envs/idp-tensorflow-federated/lib/python3.7/site-packages/IPython/extensions/autoreload.py\", line 247, in check\n",
      "    superreload(m, reload, self.old_objects)\n",
      "ValueError: __init__() requires a code object with 1 free vars, not 2\n",
      "]\n"
     ]
    },
    {
     "name": "stdout",
     "output_type": "stream",
     "text": [
      "WARNING: pip is being invoked by an old script wrapper. This will fail in a future version of pip.\n",
      "Please see https://github.com/pypa/pip/issues/5599 for advice on fixing the underlying issue.\n",
      "To avoid this problem you can invoke Python with '-m pip' instead of running pip directly.\n",
      "Requirement already satisfied: tensorflow-federated-nightly==0.16.1.dev20201021 in /Users/se9/miniconda3/envs/idp-tensorflow-federated/lib/python3.7/site-packages (0.16.1.dev20201021)\n",
      "Requirement already satisfied: transformers==3.4.0 in /Users/se9/miniconda3/envs/idp-tensorflow-federated/lib/python3.7/site-packages (3.4.0)\n",
      "Requirement already satisfied: portpicker~=1.3.1 in /Users/se9/miniconda3/envs/idp-tensorflow-federated/lib/python3.7/site-packages (from tensorflow-federated-nightly==0.16.1.dev20201021) (1.3.1)\n",
      "Requirement already satisfied: tensorflow-model-optimization~=0.4.0 in /Users/se9/miniconda3/envs/idp-tensorflow-federated/lib/python3.7/site-packages (from tensorflow-federated-nightly==0.16.1.dev20201021) (0.4.1)\n",
      "Requirement already satisfied: grpcio~=1.29.0 in /Users/se9/miniconda3/envs/idp-tensorflow-federated/lib/python3.7/site-packages (from tensorflow-federated-nightly==0.16.1.dev20201021) (1.29.0)\n",
      "Requirement already satisfied: tf-nightly in /Users/se9/miniconda3/envs/idp-tensorflow-federated/lib/python3.7/site-packages (from tensorflow-federated-nightly==0.16.1.dev20201021) (2.5.0.dev20201108)\n",
      "Requirement already satisfied: semantic-version~=2.8.5 in /Users/se9/miniconda3/envs/idp-tensorflow-federated/lib/python3.7/site-packages (from tensorflow-federated-nightly==0.16.1.dev20201021) (2.8.5)\n",
      "Requirement already satisfied: tfa-nightly in /Users/se9/miniconda3/envs/idp-tensorflow-federated/lib/python3.7/site-packages (from tensorflow-federated-nightly==0.16.1.dev20201021) (0.12.0.dev20201106045243)\n",
      "Requirement already satisfied: h5py~=2.10.0 in /Users/se9/miniconda3/envs/idp-tensorflow-federated/lib/python3.7/site-packages (from tensorflow-federated-nightly==0.16.1.dev20201021) (2.10.0)\n",
      "Requirement already satisfied: tensorflow-privacy~=0.5.0 in /Users/se9/miniconda3/envs/idp-tensorflow-federated/lib/python3.7/site-packages (from tensorflow-federated-nightly==0.16.1.dev20201021) (0.5.1)\n",
      "Requirement already satisfied: cachetools~=3.1.1 in /Users/se9/miniconda3/envs/idp-tensorflow-federated/lib/python3.7/site-packages (from tensorflow-federated-nightly==0.16.1.dev20201021) (3.1.1)\n",
      "Requirement already satisfied: dm-tree~=0.1.1 in /Users/se9/miniconda3/envs/idp-tensorflow-federated/lib/python3.7/site-packages (from tensorflow-federated-nightly==0.16.1.dev20201021) (0.1.5)\n",
      "Requirement already satisfied: attrs~=19.3.0 in /Users/se9/miniconda3/envs/idp-tensorflow-federated/lib/python3.7/site-packages (from tensorflow-federated-nightly==0.16.1.dev20201021) (19.3.0)\n",
      "Requirement already satisfied: numpy~=1.18.4 in /Users/se9/miniconda3/envs/idp-tensorflow-federated/lib/python3.7/site-packages (from tensorflow-federated-nightly==0.16.1.dev20201021) (1.18.5)\n",
      "Requirement already satisfied: retrying~=1.3.3 in /Users/se9/miniconda3/envs/idp-tensorflow-federated/lib/python3.7/site-packages (from tensorflow-federated-nightly==0.16.1.dev20201021) (1.3.3)\n",
      "Requirement already satisfied: absl-py~=0.9.0 in /Users/se9/miniconda3/envs/idp-tensorflow-federated/lib/python3.7/site-packages (from tensorflow-federated-nightly==0.16.1.dev20201021) (0.9.0)\n",
      "Requirement already satisfied: sentencepiece!=0.1.92 in /Users/se9/miniconda3/envs/idp-tensorflow-federated/lib/python3.7/site-packages (from transformers==3.4.0) (0.1.94)\n",
      "Requirement already satisfied: requests in /Users/se9/miniconda3/envs/idp-tensorflow-federated/lib/python3.7/site-packages (from transformers==3.4.0) (2.23.0)\n",
      "Requirement already satisfied: filelock in /Users/se9/miniconda3/envs/idp-tensorflow-federated/lib/python3.7/site-packages (from transformers==3.4.0) (3.0.12)\n",
      "Requirement already satisfied: tqdm>=4.27 in /Users/se9/miniconda3/envs/idp-tensorflow-federated/lib/python3.7/site-packages (from transformers==3.4.0) (4.39.0)\n",
      "Requirement already satisfied: packaging in /Users/se9/miniconda3/envs/idp-tensorflow-federated/lib/python3.7/site-packages (from transformers==3.4.0) (20.4)\n",
      "Requirement already satisfied: protobuf in /Users/se9/miniconda3/envs/idp-tensorflow-federated/lib/python3.7/site-packages (from transformers==3.4.0) (3.13.0)\n",
      "Requirement already satisfied: sacremoses in /Users/se9/miniconda3/envs/idp-tensorflow-federated/lib/python3.7/site-packages (from transformers==3.4.0) (0.0.43)\n",
      "Requirement already satisfied: tokenizers==0.9.2 in /Users/se9/miniconda3/envs/idp-tensorflow-federated/lib/python3.7/site-packages (from transformers==3.4.0) (0.9.2)\n",
      "Requirement already satisfied: regex!=2019.12.17 in /Users/se9/miniconda3/envs/idp-tensorflow-federated/lib/python3.7/site-packages (from transformers==3.4.0) (2020.7.14)\n",
      "Requirement already satisfied: six~=1.10 in /Users/se9/miniconda3/envs/idp-tensorflow-federated/lib/python3.7/site-packages (from tensorflow-model-optimization~=0.4.0->tensorflow-federated-nightly==0.16.1.dev20201021) (1.15.0)\n",
      "Requirement already satisfied: gast==0.3.3 in /Users/se9/miniconda3/envs/idp-tensorflow-federated/lib/python3.7/site-packages (from tf-nightly->tensorflow-federated-nightly==0.16.1.dev20201021) (0.3.3)\n",
      "Requirement already satisfied: tf-estimator-nightly~=2.4.0.dev in /Users/se9/miniconda3/envs/idp-tensorflow-federated/lib/python3.7/site-packages (from tf-nightly->tensorflow-federated-nightly==0.16.1.dev20201021) (2.4.0.dev2020102301)\n",
      "Requirement already satisfied: flatbuffers~=1.12.0 in /Users/se9/miniconda3/envs/idp-tensorflow-federated/lib/python3.7/site-packages (from tf-nightly->tensorflow-federated-nightly==0.16.1.dev20201021) (1.12)\n",
      "Requirement already satisfied: opt-einsum~=3.3.0 in /Users/se9/miniconda3/envs/idp-tensorflow-federated/lib/python3.7/site-packages (from tf-nightly->tensorflow-federated-nightly==0.16.1.dev20201021) (3.3.0)\n",
      "Requirement already satisfied: google-pasta~=0.2 in /Users/se9/miniconda3/envs/idp-tensorflow-federated/lib/python3.7/site-packages (from tf-nightly->tensorflow-federated-nightly==0.16.1.dev20201021) (0.2.0)\n",
      "Requirement already satisfied: termcolor~=1.1.0 in /Users/se9/miniconda3/envs/idp-tensorflow-federated/lib/python3.7/site-packages (from tf-nightly->tensorflow-federated-nightly==0.16.1.dev20201021) (1.1.0)\n",
      "Requirement already satisfied: typing-extensions~=3.7.4 in /Users/se9/miniconda3/envs/idp-tensorflow-federated/lib/python3.7/site-packages (from tf-nightly->tensorflow-federated-nightly==0.16.1.dev20201021) (3.7.4.3)\n",
      "Requirement already satisfied: keras-preprocessing~=1.1.2 in /Users/se9/miniconda3/envs/idp-tensorflow-federated/lib/python3.7/site-packages (from tf-nightly->tensorflow-federated-nightly==0.16.1.dev20201021) (1.1.2)\n",
      "Requirement already satisfied: wheel~=0.35 in /Users/se9/miniconda3/envs/idp-tensorflow-federated/lib/python3.7/site-packages (from tf-nightly->tensorflow-federated-nightly==0.16.1.dev20201021) (0.35.1)\n",
      "Requirement already satisfied: astunparse~=1.6.3 in /Users/se9/miniconda3/envs/idp-tensorflow-federated/lib/python3.7/site-packages (from tf-nightly->tensorflow-federated-nightly==0.16.1.dev20201021) (1.6.3)\n",
      "Requirement already satisfied: wrapt~=1.12.1 in /Users/se9/miniconda3/envs/idp-tensorflow-federated/lib/python3.7/site-packages (from tf-nightly->tensorflow-federated-nightly==0.16.1.dev20201021) (1.12.1)\n",
      "Requirement already satisfied: tb-nightly~=2.4.0.a in /Users/se9/miniconda3/envs/idp-tensorflow-federated/lib/python3.7/site-packages (from tf-nightly->tensorflow-federated-nightly==0.16.1.dev20201021) (2.4.0a20201108)\n",
      "Requirement already satisfied: typeguard>=2.7 in /Users/se9/miniconda3/envs/idp-tensorflow-federated/lib/python3.7/site-packages (from tfa-nightly->tensorflow-federated-nightly==0.16.1.dev20201021) (2.9.1)\n",
      "Requirement already satisfied: tensorflow-estimator>=2.3.0 in /Users/se9/miniconda3/envs/idp-tensorflow-federated/lib/python3.7/site-packages (from tensorflow-privacy~=0.5.0->tensorflow-federated-nightly==0.16.1.dev20201021) (2.3.0)\n",
      "Requirement already satisfied: scipy>=0.17 in /Users/se9/miniconda3/envs/idp-tensorflow-federated/lib/python3.7/site-packages (from tensorflow-privacy~=0.5.0->tensorflow-federated-nightly==0.16.1.dev20201021) (1.4.1)\n",
      "Requirement already satisfied: mpmath in /Users/se9/miniconda3/envs/idp-tensorflow-federated/lib/python3.7/site-packages (from tensorflow-privacy~=0.5.0->tensorflow-federated-nightly==0.16.1.dev20201021) (1.1.0)\n",
      "Requirement already satisfied: chardet<4,>=3.0.2 in /Users/se9/miniconda3/envs/idp-tensorflow-federated/lib/python3.7/site-packages (from requests->transformers==3.4.0) (3.0.4)\n",
      "Requirement already satisfied: idna<3,>=2.5 in /Users/se9/miniconda3/envs/idp-tensorflow-federated/lib/python3.7/site-packages (from requests->transformers==3.4.0) (2.9)\n"
     ]
    },
    {
     "name": "stdout",
     "output_type": "stream",
     "text": [
      "Requirement already satisfied: urllib3!=1.25.0,!=1.25.1,<1.26,>=1.21.1 in /Users/se9/miniconda3/envs/idp-tensorflow-federated/lib/python3.7/site-packages (from requests->transformers==3.4.0) (1.25.9)\n",
      "Requirement already satisfied: certifi>=2017.4.17 in /Users/se9/miniconda3/envs/idp-tensorflow-federated/lib/python3.7/site-packages (from requests->transformers==3.4.0) (2020.6.20)\n",
      "Requirement already satisfied: pyparsing>=2.0.2 in /Users/se9/miniconda3/envs/idp-tensorflow-federated/lib/python3.7/site-packages (from packaging->transformers==3.4.0) (2.4.7)\n",
      "Requirement already satisfied: setuptools in /Users/se9/miniconda3/envs/idp-tensorflow-federated/lib/python3.7/site-packages (from protobuf->transformers==3.4.0) (47.3.0.post20200626)\n",
      "Requirement already satisfied: joblib in /Users/se9/miniconda3/envs/idp-tensorflow-federated/lib/python3.7/site-packages (from sacremoses->transformers==3.4.0) (0.15.1)\n",
      "Requirement already satisfied: click in /Users/se9/miniconda3/envs/idp-tensorflow-federated/lib/python3.7/site-packages (from sacremoses->transformers==3.4.0) (7.1.2)\n",
      "Requirement already satisfied: google-auth<2,>=1.6.3 in /Users/se9/miniconda3/envs/idp-tensorflow-federated/lib/python3.7/site-packages (from tb-nightly~=2.4.0.a->tf-nightly->tensorflow-federated-nightly==0.16.1.dev20201021) (1.22.1)\n",
      "Requirement already satisfied: markdown>=2.6.8 in /Users/se9/miniconda3/envs/idp-tensorflow-federated/lib/python3.7/site-packages (from tb-nightly~=2.4.0.a->tf-nightly->tensorflow-federated-nightly==0.16.1.dev20201021) (3.2.2)\n",
      "Requirement already satisfied: tensorboard-plugin-wit>=1.6.0 in /Users/se9/miniconda3/envs/idp-tensorflow-federated/lib/python3.7/site-packages (from tb-nightly~=2.4.0.a->tf-nightly->tensorflow-federated-nightly==0.16.1.dev20201021) (1.7.0)\n",
      "Requirement already satisfied: google-auth-oauthlib<0.5,>=0.4.1 in /Users/se9/miniconda3/envs/idp-tensorflow-federated/lib/python3.7/site-packages (from tb-nightly~=2.4.0.a->tf-nightly->tensorflow-federated-nightly==0.16.1.dev20201021) (0.4.1)\n",
      "Requirement already satisfied: werkzeug>=0.11.15 in /Users/se9/miniconda3/envs/idp-tensorflow-federated/lib/python3.7/site-packages (from tb-nightly~=2.4.0.a->tf-nightly->tensorflow-federated-nightly==0.16.1.dev20201021) (1.0.1)\n",
      "Requirement already satisfied: rsa<5,>=3.1.4; python_version >= \"3.5\" in /Users/se9/miniconda3/envs/idp-tensorflow-federated/lib/python3.7/site-packages (from google-auth<2,>=1.6.3->tb-nightly~=2.4.0.a->tf-nightly->tensorflow-federated-nightly==0.16.1.dev20201021) (4.6)\n",
      "Requirement already satisfied: pyasn1-modules>=0.2.1 in /Users/se9/miniconda3/envs/idp-tensorflow-federated/lib/python3.7/site-packages (from google-auth<2,>=1.6.3->tb-nightly~=2.4.0.a->tf-nightly->tensorflow-federated-nightly==0.16.1.dev20201021) (0.2.8)\n",
      "Requirement already satisfied: importlib-metadata; python_version < \"3.8\" in /Users/se9/miniconda3/envs/idp-tensorflow-federated/lib/python3.7/site-packages (from markdown>=2.6.8->tb-nightly~=2.4.0.a->tf-nightly->tensorflow-federated-nightly==0.16.1.dev20201021) (1.7.0)\n",
      "Requirement already satisfied: requests-oauthlib>=0.7.0 in /Users/se9/miniconda3/envs/idp-tensorflow-federated/lib/python3.7/site-packages (from google-auth-oauthlib<0.5,>=0.4.1->tb-nightly~=2.4.0.a->tf-nightly->tensorflow-federated-nightly==0.16.1.dev20201021) (1.3.0)\n",
      "Requirement already satisfied: pyasn1>=0.1.3 in /Users/se9/miniconda3/envs/idp-tensorflow-federated/lib/python3.7/site-packages (from rsa<5,>=3.1.4; python_version >= \"3.5\"->google-auth<2,>=1.6.3->tb-nightly~=2.4.0.a->tf-nightly->tensorflow-federated-nightly==0.16.1.dev20201021) (0.4.8)\n",
      "Requirement already satisfied: zipp>=0.5 in /Users/se9/miniconda3/envs/idp-tensorflow-federated/lib/python3.7/site-packages (from importlib-metadata; python_version < \"3.8\"->markdown>=2.6.8->tb-nightly~=2.4.0.a->tf-nightly->tensorflow-federated-nightly==0.16.1.dev20201021) (3.1.0)\n",
      "Requirement already satisfied: oauthlib>=3.0.0 in /Users/se9/miniconda3/envs/idp-tensorflow-federated/lib/python3.7/site-packages (from requests-oauthlib>=0.7.0->google-auth-oauthlib<0.5,>=0.4.1->tb-nightly~=2.4.0.a->tf-nightly->tensorflow-federated-nightly==0.16.1.dev20201021) (3.1.0)\n"
     ]
    }
   ],
   "source": [
    "# Install required packages\n",
    "!pip install tensorflow-federated-nightly==0.16.1.dev20201021 transformers==3.4.0"
   ]
  },
  {
   "cell_type": "markdown",
   "metadata": {},
   "source": [
    "## Import packages"
   ]
  },
  {
   "cell_type": "code",
   "execution_count": null,
   "metadata": {},
   "outputs": [],
   "source": [
    "import sys\n",
    "import numpy as np\n",
    "import tensorflow as tf\n",
    "import tensorflow_federated as tff\n",
    "import transformers\n",
    "\n",
    "import nest_asyncio\n",
    "nest_asyncio.apply()\n",
    "\n",
    "import simple_fedavg_tf\n",
    "import simple_fedavg_tff\n",
    "\n",
    "# Random seed settings\n",
    "np.random.seed(random_seed)\n",
    "tf.random.set_seed(random_seed)\n",
    "\n",
    "# Test the TFF is working:\n",
    "tff.federated_computation(lambda: 'Hello, World!')()"
   ]
  },
  {
   "cell_type": "code",
   "execution_count": null,
   "metadata": {},
   "outputs": [],
   "source": [
    "# Print version information\n",
    "print(\"Python version: \" + sys.version)\n",
    "print(\"NumPy version: \" + np.__version__)\n",
    "print(\"TensorFlow version: \" + tf.__version__)\n",
    "print(\"TensorFlow Federated version: \" + tff.__version__)\n",
    "print(\"Transformers version: \" + transformers.__version__)"
   ]
  },
  {
   "cell_type": "markdown",
   "metadata": {},
   "source": [
    "## Experiment Settings"
   ]
  },
  {
   "cell_type": "code",
   "execution_count": null,
   "metadata": {},
   "outputs": [],
   "source": [
    "total_rounds = 256 # Number of total training rounds\n",
    "rounds_per_eval = 1 # How often to evaluate\n",
    "train_clients_per_round = 2 # How many clients to sample per round.\n",
    "client_epochs_per_round = 1 # Number of epochs in the client to take per round.\n",
    "batch_size = 20 # Batch size used on the client.\n",
    "test_batch_size = 100 # Minibatch size of test data.\n",
    "\n",
    "# Optimizer configuration\n",
    "server_learning_rate = 1.0 # Server learning rate.\n",
    "fclient_learning_rate = 0.1 # Client learning rate"
   ]
  },
  {
   "cell_type": "markdown",
   "metadata": {},
   "source": [
    "## Dataset"
   ]
  },
  {
   "cell_type": "code",
   "execution_count": null,
   "metadata": {},
   "outputs": [],
   "source": [
    "train_data, test_data = tff.simulation.datasets.shakespeare.load_data()"
   ]
  },
  {
   "cell_type": "markdown",
   "metadata": {},
   "source": [
    "## Model"
   ]
  },
  {
   "cell_type": "code",
   "execution_count": null,
   "metadata": {},
   "outputs": [],
   "source": [
    "def tff_model_fn():\n",
    "    \"\"\"Constructs a fully initialized model for use in federated averaging.\"\"\"\n",
    "    keras_model = transformers.TFMobileBertForMaskedLM.from_pretrained(\n",
    "        'google/mobilebert-uncased', cache_dir='./transformers_cache')\n",
    "\n",
    "    loss = tf.keras.losses.SparseCategoricalCrossentropy()\n",
    "\n",
    "    return simple_fedavg_tf.KerasModelWrapper(keras_model, test_data.element_spec, loss)\n",
    "\n",
    "model = tff_model_fn()"
   ]
  },
  {
   "cell_type": "markdown",
   "metadata": {},
   "source": [
    "## Training"
   ]
  },
  {
   "cell_type": "code",
   "execution_count": null,
   "metadata": {},
   "outputs": [],
   "source": [
    "iterative_process = simple_fedavg_tff.build_federated_averaging_process(\n",
    "    tff_model_fn, server_optimizer_fn, client_optimizer_fn)\n",
    "\n",
    "server_state = iterative_process.initialize()\n",
    "\n",
    "metric = tf.keras.metrics.SparseCategoricalAccuracy(name='test_accuracy')"
   ]
  },
  {
   "cell_type": "code",
   "execution_count": null,
   "metadata": {},
   "outputs": [],
   "source": [
    "for round_num in range(total_rounds):\n",
    "    sampled_clients = np.random.choice(\n",
    "        train_data.client_ids,\n",
    "        size=train_clients_per_round,\n",
    "        replace=False)\n",
    "\n",
    "    sampled_train_data = [\n",
    "        train_data.create_tf_dataset_for_client(client)\n",
    "        for client in sampled_clients\n",
    "    ]\n",
    "\n",
    "    server_state, train_metrics = iterative_process.next(server_state, sampled_train_data)\n",
    "\n",
    "    print(f'Round {round_num} training loss: {train_metrics}')\n",
    "\n",
    "    if round_num % rounds_per_eval == 0:\n",
    "        model.from_weights(server_state.model_weights)\n",
    "\n",
    "        accuracy = simple_fedavg_tf.keras_evaluate(model.keras_model, test_data, metric)\n",
    "\n",
    "        print(f'Round {round_num} validation accuracy: {accuracy * 100.0}')"
   ]
  }
 ],
 "metadata": {
  "kernelspec": {
   "display_name": "Python 3",
   "language": "python",
   "name": "python3"
  },
  "language_info": {
   "codemirror_mode": {
    "name": "ipython",
    "version": 3
   },
   "file_extension": ".py",
   "mimetype": "text/x-python",
   "name": "python",
   "nbconvert_exporter": "python",
   "pygments_lexer": "ipython3",
   "version": "3.6.9"
  }
 },
 "nbformat": 4,
 "nbformat_minor": 4
}
