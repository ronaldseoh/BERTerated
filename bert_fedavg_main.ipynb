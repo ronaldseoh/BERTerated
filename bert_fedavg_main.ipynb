{
 "cells": [
  {
   "cell_type": "markdown",
   "metadata": {},
   "source": [
    "# Fine-Tuning MobileBERT with Federated Averaging"
   ]
  },
  {
   "cell_type": "code",
   "execution_count": 1,
   "metadata": {},
   "outputs": [],
   "source": [
    "# Copyright 2020, The TensorFlow Federated Authors.\n",
    "# Copyright 2020, Ronald Seoh\n",
    "#\n",
    "# Licensed under the Apache License, Version 2.0 (the \"License\");\n",
    "# you may not use this file except in compliance with the License.\n",
    "# You may obtain a copy of the License at\n",
    "#\n",
    "#      http://www.apache.org/licenses/LICENSE-2.0\n",
    "#\n",
    "# Unless required by applicable law or agreed to in writing, software\n",
    "# distributed under the License is distributed on an \"AS IS\" BASIS,\n",
    "# WITHOUT WARRANTIES OR CONDITIONS OF ANY KIND, either express or implied.\n",
    "# See the License for the specific language governing permissions and\n",
    "# limitations under the License."
   ]
  },
  {
   "cell_type": "markdown",
   "metadata": {},
   "source": [
    "## Google Colab settings"
   ]
  },
  {
   "cell_type": "code",
   "execution_count": 2,
   "metadata": {},
   "outputs": [],
   "source": [
    "# Use Google Colab\n",
    "use_colab = True\n",
    "\n",
    "# Is this notebook running on Colab?\n",
    "# If so, then google.colab package (github.com/googlecolab/colabtools)\n",
    "# should be available in this environment\n",
    "\n",
    "# Previous version used importlib, but we could do the same thing with\n",
    "# just attempting to import google.colab\n",
    "try:\n",
    "    from google.colab import drive\n",
    "    colab_available = True\n",
    "except:\n",
    "    colab_available = False\n",
    "\n",
    "if use_colab and colab_available:\n",
    "    drive.mount('/content/drive')\n",
    "    \n",
    "    # If there's a package I need to install separately, do it here\n",
    "    !pip install pyro-ppl\n",
    "\n",
    "    # cd to the appropriate working directory under my Google Drive\n",
    "    %cd 'drive/My Drive/Colab Notebooks/BERTerated'\n",
    "    \n",
    "    # List the directory contents\n",
    "    !ls\n",
    "\n",
    "# IPython reloading magic\n",
    "%load_ext autoreload\n",
    "%autoreload 2\n",
    "\n",
    "# Random seeds\n",
    "# Based on https://pytorch.org/docs/stable/notes/randomness.html\n",
    "random_seed = 692"
   ]
  },
  {
   "cell_type": "code",
   "execution_count": 3,
   "metadata": {},
   "outputs": [
    {
     "name": "stdout",
     "output_type": "stream",
     "text": [
      "WARNING: pip is being invoked by an old script wrapper. This will fail in a future version of pip.\n",
      "Please see https://github.com/pypa/pip/issues/5599 for advice on fixing the underlying issue.\n",
      "To avoid this problem you can invoke Python with '-m pip' instead of running pip directly.\n",
      "Requirement already satisfied: tensorflow-federated-nightly==0.16.1.dev20201021 in /Users/se9/miniconda3/envs/idp-tensorflow-federated/lib/python3.7/site-packages (0.16.1.dev20201021)\n",
      "Requirement already satisfied: transformers==3.4.0 in /Users/se9/miniconda3/envs/idp-tensorflow-federated/lib/python3.7/site-packages (3.4.0)\n",
      "Requirement already satisfied: portpicker~=1.3.1 in /Users/se9/miniconda3/envs/idp-tensorflow-federated/lib/python3.7/site-packages (from tensorflow-federated-nightly==0.16.1.dev20201021) (1.3.1)\n",
      "Requirement already satisfied: retrying~=1.3.3 in /Users/se9/miniconda3/envs/idp-tensorflow-federated/lib/python3.7/site-packages (from tensorflow-federated-nightly==0.16.1.dev20201021) (1.3.3)\n",
      "Requirement already satisfied: semantic-version~=2.8.5 in /Users/se9/miniconda3/envs/idp-tensorflow-federated/lib/python3.7/site-packages (from tensorflow-federated-nightly==0.16.1.dev20201021) (2.8.5)\n",
      "Requirement already satisfied: cachetools~=3.1.1 in /Users/se9/miniconda3/envs/idp-tensorflow-federated/lib/python3.7/site-packages (from tensorflow-federated-nightly==0.16.1.dev20201021) (3.1.1)\n",
      "Requirement already satisfied: h5py~=2.10.0 in /Users/se9/miniconda3/envs/idp-tensorflow-federated/lib/python3.7/site-packages (from tensorflow-federated-nightly==0.16.1.dev20201021) (2.10.0)\n",
      "Requirement already satisfied: absl-py~=0.9.0 in /Users/se9/miniconda3/envs/idp-tensorflow-federated/lib/python3.7/site-packages (from tensorflow-federated-nightly==0.16.1.dev20201021) (0.9.0)\n",
      "Requirement already satisfied: attrs~=19.3.0 in /Users/se9/miniconda3/envs/idp-tensorflow-federated/lib/python3.7/site-packages (from tensorflow-federated-nightly==0.16.1.dev20201021) (19.3.0)\n",
      "Requirement already satisfied: tfa-nightly in /Users/se9/miniconda3/envs/idp-tensorflow-federated/lib/python3.7/site-packages (from tensorflow-federated-nightly==0.16.1.dev20201021) (0.12.0.dev20201106045243)\n",
      "Requirement already satisfied: numpy~=1.18.4 in /Users/se9/miniconda3/envs/idp-tensorflow-federated/lib/python3.7/site-packages (from tensorflow-federated-nightly==0.16.1.dev20201021) (1.18.5)\n",
      "Requirement already satisfied: tensorflow-model-optimization~=0.4.0 in /Users/se9/miniconda3/envs/idp-tensorflow-federated/lib/python3.7/site-packages (from tensorflow-federated-nightly==0.16.1.dev20201021) (0.4.1)\n",
      "Requirement already satisfied: dm-tree~=0.1.1 in /Users/se9/miniconda3/envs/idp-tensorflow-federated/lib/python3.7/site-packages (from tensorflow-federated-nightly==0.16.1.dev20201021) (0.1.5)\n",
      "Requirement already satisfied: tensorflow-privacy~=0.5.0 in /Users/se9/miniconda3/envs/idp-tensorflow-federated/lib/python3.7/site-packages (from tensorflow-federated-nightly==0.16.1.dev20201021) (0.5.1)\n",
      "Requirement already satisfied: tf-nightly in /Users/se9/miniconda3/envs/idp-tensorflow-federated/lib/python3.7/site-packages (from tensorflow-federated-nightly==0.16.1.dev20201021) (2.5.0.dev20201108)\n",
      "Requirement already satisfied: grpcio~=1.29.0 in /Users/se9/miniconda3/envs/idp-tensorflow-federated/lib/python3.7/site-packages (from tensorflow-federated-nightly==0.16.1.dev20201021) (1.29.0)\n",
      "Requirement already satisfied: tokenizers==0.9.2 in /Users/se9/miniconda3/envs/idp-tensorflow-federated/lib/python3.7/site-packages (from transformers==3.4.0) (0.9.2)\n",
      "Requirement already satisfied: filelock in /Users/se9/miniconda3/envs/idp-tensorflow-federated/lib/python3.7/site-packages (from transformers==3.4.0) (3.0.12)\n",
      "Requirement already satisfied: regex!=2019.12.17 in /Users/se9/miniconda3/envs/idp-tensorflow-federated/lib/python3.7/site-packages (from transformers==3.4.0) (2020.7.14)\n",
      "Requirement already satisfied: packaging in /Users/se9/miniconda3/envs/idp-tensorflow-federated/lib/python3.7/site-packages (from transformers==3.4.0) (20.4)\n",
      "Requirement already satisfied: sacremoses in /Users/se9/miniconda3/envs/idp-tensorflow-federated/lib/python3.7/site-packages (from transformers==3.4.0) (0.0.43)\n",
      "Requirement already satisfied: tqdm>=4.27 in /Users/se9/miniconda3/envs/idp-tensorflow-federated/lib/python3.7/site-packages (from transformers==3.4.0) (4.39.0)\n",
      "Requirement already satisfied: sentencepiece!=0.1.92 in /Users/se9/miniconda3/envs/idp-tensorflow-federated/lib/python3.7/site-packages (from transformers==3.4.0) (0.1.94)\n",
      "Requirement already satisfied: protobuf in /Users/se9/miniconda3/envs/idp-tensorflow-federated/lib/python3.7/site-packages (from transformers==3.4.0) (3.13.0)\n",
      "Requirement already satisfied: requests in /Users/se9/miniconda3/envs/idp-tensorflow-federated/lib/python3.7/site-packages (from transformers==3.4.0) (2.23.0)\n",
      "Requirement already satisfied: six>=1.7.0 in /Users/se9/miniconda3/envs/idp-tensorflow-federated/lib/python3.7/site-packages (from retrying~=1.3.3->tensorflow-federated-nightly==0.16.1.dev20201021) (1.15.0)\n",
      "Requirement already satisfied: typeguard>=2.7 in /Users/se9/miniconda3/envs/idp-tensorflow-federated/lib/python3.7/site-packages (from tfa-nightly->tensorflow-federated-nightly==0.16.1.dev20201021) (2.9.1)\n",
      "Requirement already satisfied: mpmath in /Users/se9/miniconda3/envs/idp-tensorflow-federated/lib/python3.7/site-packages (from tensorflow-privacy~=0.5.0->tensorflow-federated-nightly==0.16.1.dev20201021) (1.1.0)\n",
      "Requirement already satisfied: tensorflow-estimator>=2.3.0 in /Users/se9/miniconda3/envs/idp-tensorflow-federated/lib/python3.7/site-packages (from tensorflow-privacy~=0.5.0->tensorflow-federated-nightly==0.16.1.dev20201021) (2.3.0)\n",
      "Requirement already satisfied: scipy>=0.17 in /Users/se9/miniconda3/envs/idp-tensorflow-federated/lib/python3.7/site-packages (from tensorflow-privacy~=0.5.0->tensorflow-federated-nightly==0.16.1.dev20201021) (1.4.1)\n",
      "Requirement already satisfied: termcolor~=1.1.0 in /Users/se9/miniconda3/envs/idp-tensorflow-federated/lib/python3.7/site-packages (from tf-nightly->tensorflow-federated-nightly==0.16.1.dev20201021) (1.1.0)\n",
      "Requirement already satisfied: tb-nightly~=2.4.0.a in /Users/se9/miniconda3/envs/idp-tensorflow-federated/lib/python3.7/site-packages (from tf-nightly->tensorflow-federated-nightly==0.16.1.dev20201021) (2.4.0a20201108)\n",
      "Requirement already satisfied: wheel~=0.35 in /Users/se9/miniconda3/envs/idp-tensorflow-federated/lib/python3.7/site-packages (from tf-nightly->tensorflow-federated-nightly==0.16.1.dev20201021) (0.35.1)\n",
      "Requirement already satisfied: wrapt~=1.12.1 in /Users/se9/miniconda3/envs/idp-tensorflow-federated/lib/python3.7/site-packages (from tf-nightly->tensorflow-federated-nightly==0.16.1.dev20201021) (1.12.1)\n",
      "Requirement already satisfied: flatbuffers~=1.12.0 in /Users/se9/miniconda3/envs/idp-tensorflow-federated/lib/python3.7/site-packages (from tf-nightly->tensorflow-federated-nightly==0.16.1.dev20201021) (1.12)\n",
      "Requirement already satisfied: google-pasta~=0.2 in /Users/se9/miniconda3/envs/idp-tensorflow-federated/lib/python3.7/site-packages (from tf-nightly->tensorflow-federated-nightly==0.16.1.dev20201021) (0.2.0)\n",
      "Requirement already satisfied: astunparse~=1.6.3 in /Users/se9/miniconda3/envs/idp-tensorflow-federated/lib/python3.7/site-packages (from tf-nightly->tensorflow-federated-nightly==0.16.1.dev20201021) (1.6.3)\n",
      "Requirement already satisfied: gast==0.3.3 in /Users/se9/miniconda3/envs/idp-tensorflow-federated/lib/python3.7/site-packages (from tf-nightly->tensorflow-federated-nightly==0.16.1.dev20201021) (0.3.3)\n",
      "Requirement already satisfied: keras-preprocessing~=1.1.2 in /Users/se9/miniconda3/envs/idp-tensorflow-federated/lib/python3.7/site-packages (from tf-nightly->tensorflow-federated-nightly==0.16.1.dev20201021) (1.1.2)\n",
      "Requirement already satisfied: typing-extensions~=3.7.4 in /Users/se9/miniconda3/envs/idp-tensorflow-federated/lib/python3.7/site-packages (from tf-nightly->tensorflow-federated-nightly==0.16.1.dev20201021) (3.7.4.3)\n",
      "Requirement already satisfied: opt-einsum~=3.3.0 in /Users/se9/miniconda3/envs/idp-tensorflow-federated/lib/python3.7/site-packages (from tf-nightly->tensorflow-federated-nightly==0.16.1.dev20201021) (3.3.0)\n"
     ]
    },
    {
     "name": "stdout",
     "output_type": "stream",
     "text": [
      "Requirement already satisfied: tf-estimator-nightly~=2.4.0.dev in /Users/se9/miniconda3/envs/idp-tensorflow-federated/lib/python3.7/site-packages (from tf-nightly->tensorflow-federated-nightly==0.16.1.dev20201021) (2.4.0.dev2020102301)\n",
      "Requirement already satisfied: pyparsing>=2.0.2 in /Users/se9/miniconda3/envs/idp-tensorflow-federated/lib/python3.7/site-packages (from packaging->transformers==3.4.0) (2.4.7)\n",
      "Requirement already satisfied: joblib in /Users/se9/miniconda3/envs/idp-tensorflow-federated/lib/python3.7/site-packages (from sacremoses->transformers==3.4.0) (0.15.1)\n",
      "Requirement already satisfied: click in /Users/se9/miniconda3/envs/idp-tensorflow-federated/lib/python3.7/site-packages (from sacremoses->transformers==3.4.0) (7.1.2)\n",
      "Requirement already satisfied: setuptools in /Users/se9/miniconda3/envs/idp-tensorflow-federated/lib/python3.7/site-packages (from protobuf->transformers==3.4.0) (47.3.0.post20200626)\n",
      "Requirement already satisfied: chardet<4,>=3.0.2 in /Users/se9/miniconda3/envs/idp-tensorflow-federated/lib/python3.7/site-packages (from requests->transformers==3.4.0) (3.0.4)\n",
      "Requirement already satisfied: idna<3,>=2.5 in /Users/se9/miniconda3/envs/idp-tensorflow-federated/lib/python3.7/site-packages (from requests->transformers==3.4.0) (2.9)\n",
      "Requirement already satisfied: urllib3!=1.25.0,!=1.25.1,<1.26,>=1.21.1 in /Users/se9/miniconda3/envs/idp-tensorflow-federated/lib/python3.7/site-packages (from requests->transformers==3.4.0) (1.25.9)\n",
      "Requirement already satisfied: certifi>=2017.4.17 in /Users/se9/miniconda3/envs/idp-tensorflow-federated/lib/python3.7/site-packages (from requests->transformers==3.4.0) (2020.6.20)\n",
      "Requirement already satisfied: google-auth-oauthlib<0.5,>=0.4.1 in /Users/se9/miniconda3/envs/idp-tensorflow-federated/lib/python3.7/site-packages (from tb-nightly~=2.4.0.a->tf-nightly->tensorflow-federated-nightly==0.16.1.dev20201021) (0.4.1)\n",
      "Requirement already satisfied: werkzeug>=0.11.15 in /Users/se9/miniconda3/envs/idp-tensorflow-federated/lib/python3.7/site-packages (from tb-nightly~=2.4.0.a->tf-nightly->tensorflow-federated-nightly==0.16.1.dev20201021) (1.0.1)\n",
      "Requirement already satisfied: markdown>=2.6.8 in /Users/se9/miniconda3/envs/idp-tensorflow-federated/lib/python3.7/site-packages (from tb-nightly~=2.4.0.a->tf-nightly->tensorflow-federated-nightly==0.16.1.dev20201021) (3.2.2)\n",
      "Requirement already satisfied: tensorboard-plugin-wit>=1.6.0 in /Users/se9/miniconda3/envs/idp-tensorflow-federated/lib/python3.7/site-packages (from tb-nightly~=2.4.0.a->tf-nightly->tensorflow-federated-nightly==0.16.1.dev20201021) (1.7.0)\n",
      "Requirement already satisfied: google-auth<2,>=1.6.3 in /Users/se9/miniconda3/envs/idp-tensorflow-federated/lib/python3.7/site-packages (from tb-nightly~=2.4.0.a->tf-nightly->tensorflow-federated-nightly==0.16.1.dev20201021) (1.22.1)\n",
      "Requirement already satisfied: requests-oauthlib>=0.7.0 in /Users/se9/miniconda3/envs/idp-tensorflow-federated/lib/python3.7/site-packages (from google-auth-oauthlib<0.5,>=0.4.1->tb-nightly~=2.4.0.a->tf-nightly->tensorflow-federated-nightly==0.16.1.dev20201021) (1.3.0)\n",
      "Requirement already satisfied: importlib-metadata; python_version < \"3.8\" in /Users/se9/miniconda3/envs/idp-tensorflow-federated/lib/python3.7/site-packages (from markdown>=2.6.8->tb-nightly~=2.4.0.a->tf-nightly->tensorflow-federated-nightly==0.16.1.dev20201021) (1.7.0)\n",
      "Requirement already satisfied: rsa<5,>=3.1.4; python_version >= \"3.5\" in /Users/se9/miniconda3/envs/idp-tensorflow-federated/lib/python3.7/site-packages (from google-auth<2,>=1.6.3->tb-nightly~=2.4.0.a->tf-nightly->tensorflow-federated-nightly==0.16.1.dev20201021) (4.6)\n",
      "Requirement already satisfied: pyasn1-modules>=0.2.1 in /Users/se9/miniconda3/envs/idp-tensorflow-federated/lib/python3.7/site-packages (from google-auth<2,>=1.6.3->tb-nightly~=2.4.0.a->tf-nightly->tensorflow-federated-nightly==0.16.1.dev20201021) (0.2.8)\n",
      "Requirement already satisfied: oauthlib>=3.0.0 in /Users/se9/miniconda3/envs/idp-tensorflow-federated/lib/python3.7/site-packages (from requests-oauthlib>=0.7.0->google-auth-oauthlib<0.5,>=0.4.1->tb-nightly~=2.4.0.a->tf-nightly->tensorflow-federated-nightly==0.16.1.dev20201021) (3.1.0)\n",
      "Requirement already satisfied: zipp>=0.5 in /Users/se9/miniconda3/envs/idp-tensorflow-federated/lib/python3.7/site-packages (from importlib-metadata; python_version < \"3.8\"->markdown>=2.6.8->tb-nightly~=2.4.0.a->tf-nightly->tensorflow-federated-nightly==0.16.1.dev20201021) (3.1.0)\n",
      "Requirement already satisfied: pyasn1>=0.1.3 in /Users/se9/miniconda3/envs/idp-tensorflow-federated/lib/python3.7/site-packages (from rsa<5,>=3.1.4; python_version >= \"3.5\"->google-auth<2,>=1.6.3->tb-nightly~=2.4.0.a->tf-nightly->tensorflow-federated-nightly==0.16.1.dev20201021) (0.4.8)\n"
     ]
    }
   ],
   "source": [
    "# Install required packages\n",
    "!pip install tensorflow-federated-nightly==0.16.1.dev20201021 transformers==3.4.0"
   ]
  },
  {
   "cell_type": "markdown",
   "metadata": {},
   "source": [
    "## Import packages"
   ]
  },
  {
   "cell_type": "code",
   "execution_count": 4,
   "metadata": {},
   "outputs": [
    {
     "name": "stderr",
     "output_type": "stream",
     "text": [
      "/Users/se9/miniconda3/envs/idp-tensorflow-federated/lib/python3.7/site-packages/tensorflow_addons/utils/ensure_tf_install.py:43: UserWarning: You are currently using a nightly version of TensorFlow (2.5.0-dev20201108). \n",
      "TensorFlow Addons offers no support for the nightly versions of TensorFlow. Some things might work, some other might not. \n",
      "If you encounter a bug, do not file an issue on GitHub.\n",
      "  UserWarning,\n"
     ]
    },
    {
     "data": {
      "text/plain": [
       "b'Hello, World!'"
      ]
     },
     "execution_count": 4,
     "metadata": {},
     "output_type": "execute_result"
    }
   ],
   "source": [
    "import sys\n",
    "import numpy as np\n",
    "import tensorflow as tf\n",
    "import tensorflow_federated as tff\n",
    "import transformers\n",
    "\n",
    "import nest_asyncio\n",
    "nest_asyncio.apply()\n",
    "\n",
    "import simple_fedavg_tf\n",
    "import simple_fedavg_tff\n",
    "\n",
    "# Random seed settings\n",
    "np.random.seed(random_seed)\n",
    "tf.random.set_seed(random_seed)\n",
    "\n",
    "# Test the TFF is working:\n",
    "tff.federated_computation(lambda: 'Hello, World!')()"
   ]
  },
  {
   "cell_type": "code",
   "execution_count": 5,
   "metadata": {},
   "outputs": [
    {
     "name": "stdout",
     "output_type": "stream",
     "text": [
      "Python version: 3.7.7 (default, Jun 26 2020, 02:44:13) \n",
      "[Clang 4.0.1 (tags/RELEASE_401/final)]\n",
      "NumPy version: 1.18.5\n",
      "TensorFlow version: 2.5.0-dev20201108\n",
      "TensorFlow Federated version: 0.16.1\n",
      "Transformers version: 3.4.0\n"
     ]
    }
   ],
   "source": [
    "# Print version information\n",
    "print(\"Python version: \" + sys.version)\n",
    "print(\"NumPy version: \" + np.__version__)\n",
    "print(\"TensorFlow version: \" + tf.__version__)\n",
    "print(\"TensorFlow Federated version: \" + tff.__version__)\n",
    "print(\"Transformers version: \" + transformers.__version__)"
   ]
  },
  {
   "cell_type": "markdown",
   "metadata": {},
   "source": [
    "## Experiment Settings"
   ]
  },
  {
   "cell_type": "code",
   "execution_count": 6,
   "metadata": {},
   "outputs": [],
   "source": [
    "total_rounds = 256 # Number of total training rounds\n",
    "rounds_per_eval = 1 # How often to evaluate\n",
    "train_clients_per_round = 2 # How many clients to sample per round.\n",
    "client_epochs_per_round = 1 # Number of epochs in the client to take per round.\n",
    "batch_size = 20 # Batch size used on the client.\n",
    "test_batch_size = 100 # Minibatch size of test data.\n",
    "\n",
    "# Optimizer configuration\n",
    "server_learning_rate = 1.0 # Server learning rate.\n",
    "fclient_learning_rate = 0.1 # Client learning rate"
   ]
  },
  {
   "cell_type": "markdown",
   "metadata": {},
   "source": [
    "## Dataset"
   ]
  },
  {
   "cell_type": "code",
   "execution_count": 14,
   "metadata": {},
   "outputs": [],
   "source": [
    "train_data, test_data = tff.simulation.datasets.shakespeare.load_data(cache_dir='./tff_shakespeare_cache')"
   ]
  },
  {
   "cell_type": "code",
   "execution_count": 21,
   "metadata": {},
   "outputs": [
    {
     "data": {
      "application/vnd.jupyter.widget-view+json": {
       "model_id": "47735a4079b84883b9a7c56747050d62",
       "version_major": 2,
       "version_minor": 0
      },
      "text/plain": [
       "HBox(children=(IntProgress(value=0, description='Downloading', max=231508, style=ProgressStyle(description_wid…"
      ]
     },
     "metadata": {},
     "output_type": "display_data"
    },
    {
     "name": "stdout",
     "output_type": "stream",
     "text": [
      "\n"
     ]
    },
    {
     "data": {
      "application/vnd.jupyter.widget-view+json": {
       "model_id": "f2d13d6d628048f2b6984d57a5210fe8",
       "version_major": 2,
       "version_minor": 0
      },
      "text/plain": [
       "HBox(children=(IntProgress(value=0, description='Downloading', max=466062, style=ProgressStyle(description_wid…"
      ]
     },
     "metadata": {},
     "output_type": "display_data"
    },
    {
     "name": "stdout",
     "output_type": "stream",
     "text": [
      "\n"
     ]
    }
   ],
   "source": [
    "mobilebert_tokenizer = transformers.MobileBertTokenizer.from_pretrained(\n",
    "    'google/mobilebert-uncased', cache_dir='./transformers_cache')"
   ]
  },
  {
   "cell_type": "markdown",
   "metadata": {},
   "source": [
    "### Preprocessing"
   ]
  },
  {
   "cell_type": "code",
   "execution_count": 20,
   "metadata": {},
   "outputs": [
    {
     "ename": "NameError",
     "evalue": "name 'vocab' is not defined",
     "output_type": "error",
     "traceback": [
      "\u001b[0;31m---------------------------------------------------------------------------\u001b[0m",
      "\u001b[0;31mNameError\u001b[0m                                 Traceback (most recent call last)",
      "\u001b[0;32m<ipython-input-20-14203e85745e>\u001b[0m in \u001b[0;36m<module>\u001b[0;34m()\u001b[0m\n\u001b[1;32m      1\u001b[0m table = tf.lookup.StaticHashTable(\n\u001b[1;32m      2\u001b[0m     tf.lookup.KeyValueTensorInitializer(\n\u001b[0;32m----> 3\u001b[0;31m         keys=vocab, values=tf.constant(list(range(len(vocab))),\n\u001b[0m\u001b[1;32m      4\u001b[0m                                        dtype=tf.int64)),\n\u001b[1;32m      5\u001b[0m     default_value=0)\n",
      "\u001b[0;31mNameError\u001b[0m: name 'vocab' is not defined"
     ]
    }
   ],
   "source": [
    "def to_ids(x):\n",
    "    s = tf.reshape(x['snippets'], shape=[1])\n",
    "    chars = tf.strings.bytes_split(s).values\n",
    "    ids = table.lookup(chars)\n",
    "    return ids\n",
    "\n",
    "def split_input_target(chunk):\n",
    "    input_text = tf.map_fn(lambda x: x[:-1], chunk)\n",
    "    target_text = tf.map_fn(lambda x: x[1:], chunk)\n",
    "    return (input_text, target_text)\n",
    "\n",
    "def preprocess(dataset):\n",
    "    return (\n",
    "        # Map ASCII chars to int64 indexes using the vocab\n",
    "        dataset.map(to_ids)\n",
    "        # Split into individual chars\n",
    "        .unbatch()\n",
    "        # Form example sequences of SEQ_LENGTH +1\n",
    "        .batch(SEQ_LENGTH + 1, drop_remainder=True)\n",
    "        # Shuffle and form minibatches\n",
    "        .shuffle(BUFFER_SIZE).batch(BATCH_SIZE, drop_remainder=True)\n",
    "        # And finally split into (input, target) tuples,\n",
    "        # each of length SEQ_LENGTH.\n",
    "        .map(split_input_target))"
   ]
  },
  {
   "cell_type": "code",
   "execution_count": null,
   "metadata": {},
   "outputs": [],
   "source": [
    "raw_example_dataset = train_data.create_tf_dataset_for_client('THE_TRAGEDY_OF_KING_LEAR_KING')\n",
    "example_dataset = preprocess(raw_example_dataset)\n",
    "print(example_dataset.element_spec)"
   ]
  },
  {
   "cell_type": "markdown",
   "metadata": {},
   "source": [
    "## Model"
   ]
  },
  {
   "cell_type": "code",
   "execution_count": 9,
   "metadata": {},
   "outputs": [
    {
     "name": "stderr",
     "output_type": "stream",
     "text": [
      "Some layers from the model checkpoint at google/mobilebert-uncased were not used when initializing TFMobileBertForMaskedLM: ['seq_relationship___cls', 'predictions___cls']\n",
      "- This IS expected if you are initializing TFMobileBertForMaskedLM from the checkpoint of a model trained on another task or with another architecture (e.g. initializing a BertForSequenceClassification model from a BertForPretraining model).\n",
      "- This IS NOT expected if you are initializing TFMobileBertForMaskedLM from the checkpoint of a model that you expect to be exactly identical (initializing a BertForSequenceClassification model from a BertForSequenceClassification model).\n",
      "Some layers of TFMobileBertForMaskedLM were not initialized from the model checkpoint at google/mobilebert-uncased and are newly initialized: ['mlm___cls']\n",
      "You should probably TRAIN this model on a down-stream task to be able to use it for predictions and inference.\n"
     ]
    },
    {
     "ename": "TypeError",
     "evalue": "'HDF5ClientData' object is not subscriptable",
     "output_type": "error",
     "traceback": [
      "\u001b[0;31m---------------------------------------------------------------------------\u001b[0m",
      "\u001b[0;31mTypeError\u001b[0m                                 Traceback (most recent call last)",
      "\u001b[0;32m<ipython-input-9-72c1fddd4b20>\u001b[0m in \u001b[0;36m<module>\u001b[0;34m()\u001b[0m\n\u001b[1;32m      8\u001b[0m     \u001b[0;32mreturn\u001b[0m \u001b[0msimple_fedavg_tf\u001b[0m\u001b[0;34m.\u001b[0m\u001b[0mKerasModelWrapper\u001b[0m\u001b[0;34m(\u001b[0m\u001b[0mkeras_model\u001b[0m\u001b[0;34m,\u001b[0m \u001b[0mtest_data\u001b[0m\u001b[0;34m[\u001b[0m\u001b[0;36m0\u001b[0m\u001b[0;34m]\u001b[0m\u001b[0;34m.\u001b[0m\u001b[0melement_spec\u001b[0m\u001b[0;34m,\u001b[0m \u001b[0mloss\u001b[0m\u001b[0;34m)\u001b[0m\u001b[0;34m\u001b[0m\u001b[0;34m\u001b[0m\u001b[0m\n\u001b[1;32m      9\u001b[0m \u001b[0;34m\u001b[0m\u001b[0m\n\u001b[0;32m---> 10\u001b[0;31m \u001b[0mmodel\u001b[0m \u001b[0;34m=\u001b[0m \u001b[0mtff_model_fn\u001b[0m\u001b[0;34m(\u001b[0m\u001b[0;34m)\u001b[0m\u001b[0;34m\u001b[0m\u001b[0;34m\u001b[0m\u001b[0m\n\u001b[0m",
      "\u001b[0;32m<ipython-input-9-72c1fddd4b20>\u001b[0m in \u001b[0;36mtff_model_fn\u001b[0;34m()\u001b[0m\n\u001b[1;32m      6\u001b[0m     \u001b[0mloss\u001b[0m \u001b[0;34m=\u001b[0m \u001b[0mtf\u001b[0m\u001b[0;34m.\u001b[0m\u001b[0mkeras\u001b[0m\u001b[0;34m.\u001b[0m\u001b[0mlosses\u001b[0m\u001b[0;34m.\u001b[0m\u001b[0mSparseCategoricalCrossentropy\u001b[0m\u001b[0;34m(\u001b[0m\u001b[0;34m)\u001b[0m\u001b[0;34m\u001b[0m\u001b[0;34m\u001b[0m\u001b[0m\n\u001b[1;32m      7\u001b[0m \u001b[0;34m\u001b[0m\u001b[0m\n\u001b[0;32m----> 8\u001b[0;31m     \u001b[0;32mreturn\u001b[0m \u001b[0msimple_fedavg_tf\u001b[0m\u001b[0;34m.\u001b[0m\u001b[0mKerasModelWrapper\u001b[0m\u001b[0;34m(\u001b[0m\u001b[0mkeras_model\u001b[0m\u001b[0;34m,\u001b[0m \u001b[0mtest_data\u001b[0m\u001b[0;34m[\u001b[0m\u001b[0;36m0\u001b[0m\u001b[0;34m]\u001b[0m\u001b[0;34m.\u001b[0m\u001b[0melement_spec\u001b[0m\u001b[0;34m,\u001b[0m \u001b[0mloss\u001b[0m\u001b[0;34m)\u001b[0m\u001b[0;34m\u001b[0m\u001b[0;34m\u001b[0m\u001b[0m\n\u001b[0m\u001b[1;32m      9\u001b[0m \u001b[0;34m\u001b[0m\u001b[0m\n\u001b[1;32m     10\u001b[0m \u001b[0mmodel\u001b[0m \u001b[0;34m=\u001b[0m \u001b[0mtff_model_fn\u001b[0m\u001b[0;34m(\u001b[0m\u001b[0;34m)\u001b[0m\u001b[0;34m\u001b[0m\u001b[0;34m\u001b[0m\u001b[0m\n",
      "\u001b[0;31mTypeError\u001b[0m: 'HDF5ClientData' object is not subscriptable"
     ]
    }
   ],
   "source": [
    "def tff_model_fn():\n",
    "    \"\"\"Constructs a fully initialized model for use in federated averaging.\"\"\"\n",
    "    keras_model = transformers.TFMobileBertForMaskedLM.from_pretrained(\n",
    "        'google/mobilebert-uncased', cache_dir='./transformers_cache')\n",
    "\n",
    "    loss = tf.keras.losses.SparseCategoricalCrossentropy()\n",
    "\n",
    "    return simple_fedavg_tf.KerasModelWrapper(keras_model, test_data[0].element_spec, loss)\n",
    "\n",
    "model = tff_model_fn()"
   ]
  },
  {
   "cell_type": "markdown",
   "metadata": {},
   "source": [
    "## Training"
   ]
  },
  {
   "cell_type": "code",
   "execution_count": null,
   "metadata": {},
   "outputs": [],
   "source": [
    "iterative_process = simple_fedavg_tff.build_federated_averaging_process(\n",
    "    tff_model_fn, server_optimizer_fn, client_optimizer_fn)\n",
    "\n",
    "server_state = iterative_process.initialize()\n",
    "\n",
    "metric = tf.keras.metrics.SparseCategoricalAccuracy(name='test_accuracy')"
   ]
  },
  {
   "cell_type": "code",
   "execution_count": null,
   "metadata": {},
   "outputs": [],
   "source": [
    "for round_num in range(total_rounds):\n",
    "    sampled_clients = np.random.choice(\n",
    "        train_data.client_ids,\n",
    "        size=train_clients_per_round,\n",
    "        replace=False)\n",
    "\n",
    "    sampled_train_data = [\n",
    "        train_data.create_tf_dataset_for_client(client)\n",
    "        for client in sampled_clients\n",
    "    ]\n",
    "\n",
    "    server_state, train_metrics = iterative_process.next(server_state, sampled_train_data)\n",
    "\n",
    "    print(f'Round {round_num} training loss: {train_metrics}')\n",
    "\n",
    "    if round_num % rounds_per_eval == 0:\n",
    "        model.from_weights(server_state.model_weights)\n",
    "\n",
    "        accuracy = simple_fedavg_tf.keras_evaluate(model.keras_model, test_data, metric)\n",
    "\n",
    "        print(f'Round {round_num} validation accuracy: {accuracy * 100.0}')"
   ]
  }
 ],
 "metadata": {
  "kernelspec": {
   "display_name": "Python 3",
   "language": "python",
   "name": "python3"
  },
  "language_info": {
   "codemirror_mode": {
    "name": "ipython",
    "version": 3
   },
   "file_extension": ".py",
   "mimetype": "text/x-python",
   "name": "python",
   "nbconvert_exporter": "python",
   "pygments_lexer": "ipython3",
   "version": "3.7.7"
  }
 },
 "nbformat": 4,
 "nbformat_minor": 4
}
